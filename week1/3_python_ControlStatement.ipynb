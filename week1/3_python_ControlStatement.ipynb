{
 "cells": [
  {
   "cell_type": "markdown",
   "id": "a06e50fb-d04d-4fe1-945c-d7ce75c977cc",
   "metadata": {},
   "source": [
    "# Ch 3. Control Statement"
   ]
  },
  {
   "cell_type": "markdown",
   "id": "f35354bd-ec66-41d4-8b71-5794ba697776",
   "metadata": {},
   "source": [
    "## If Statement"
   ]
  },
  {
   "cell_type": "markdown",
   "id": "d1234b2f-cebf-4000-86e5-ab3e11a76cda",
   "metadata": {},
   "source": [
    "예제) \n"
   ]
  },
  {
   "cell_type": "code",
   "execution_count": 1,
   "id": "c975ccb0-968f-48ce-8d75-ac75b3c49511",
   "metadata": {},
   "outputs": [
    {
     "name": "stdout",
     "output_type": "stream",
     "text": [
      "ride\n"
     ]
    }
   ],
   "source": [
    "money = 1;\n",
    "if money :\n",
    "    print(\"ride\")\n",
    "else :\n",
    "    print('walk')"
   ]
  },
  {
   "cell_type": "code",
   "execution_count": 2,
   "id": "81c89880-4d77-48fa-8060-ec1d35e8e20b",
   "metadata": {},
   "outputs": [
    {
     "name": "stdout",
     "output_type": "stream",
     "text": [
      "ride\n"
     ]
    }
   ],
   "source": [
    "money = 5000\n",
    "if money >= 3000:\n",
    "    print(\"ride\")\n",
    "else:\n",
    "    print(\"walk\")"
   ]
  },
  {
   "cell_type": "code",
   "execution_count": 3,
   "id": "df08a195-7f7a-43fc-950f-4ef592d4adcd",
   "metadata": {},
   "outputs": [
    {
     "name": "stdout",
     "output_type": "stream",
     "text": [
      "ride\n"
     ]
    }
   ],
   "source": [
    "money = 5000\n",
    "watch = True\n",
    "if money >= 3000 or watch:\n",
    "    print('ride')\n",
    "else:\n",
    "    print('walk')"
   ]
  },
  {
   "cell_type": "code",
   "execution_count": 4,
   "id": "bea82a19-fa33-4a2d-bf1f-16b46e249e31",
   "metadata": {},
   "outputs": [
    {
     "name": "stdout",
     "output_type": "stream",
     "text": [
      "x is in list\n"
     ]
    }
   ],
   "source": [
    "dic = [1, 2, 3, 4]\n",
    "if 1 not in dic:\n",
    "    print(\"x is not in dic\")\n",
    "else:\n",
    "    print('x is in list')"
   ]
  },
  {
   "cell_type": "code",
   "execution_count": 5,
   "id": "294807d4-d044-4591-b6b6-f73f77a4fabf",
   "metadata": {},
   "outputs": [
    {
     "name": "stdout",
     "output_type": "stream",
     "text": [
      "ride\n"
     ]
    }
   ],
   "source": [
    "pocket = ['money', 'paper', 'phone']\n",
    "if 'money' in pocket:\n",
    "    print('ride')\n",
    "else:\n",
    "    print('walk')"
   ]
  },
  {
   "cell_type": "code",
   "execution_count": 6,
   "id": "c6883550-bc19-46b7-a652-c974d20f13a6",
   "metadata": {},
   "outputs": [
    {
     "name": "stdout",
     "output_type": "stream",
     "text": [
      "ride\n"
     ]
    }
   ],
   "source": [
    "pocket = ['money', 'watch']\n",
    "if 'money' in pocket:\n",
    "    print('ride')\n",
    "elif 'watch' in pocket:\n",
    "    print('ride')\n",
    "else :\n",
    "    print('walk')"
   ]
  },
  {
   "cell_type": "code",
   "execution_count": 7,
   "id": "897a983e-094b-4d75-8599-b29f578432bf",
   "metadata": {},
   "outputs": [],
   "source": [
    "pocket = ['money', 'watch']\n",
    "if 'money' in pocket:\n",
    "    pass\n",
    "else :\n",
    "    print('walk')"
   ]
  },
  {
   "cell_type": "code",
   "execution_count": 8,
   "id": "4c828ddf-a772-4002-9301-205e6fd7ad18",
   "metadata": {},
   "outputs": [
    {
     "name": "stdout",
     "output_type": "stream",
     "text": [
      "XXX 학생의 학점은 C+이다.\n"
     ]
    }
   ],
   "source": [
    "score = 80\n",
    "grade = ''\n",
    "if 91 <= score and score <= 100:\n",
    "    grade = 'A+'\n",
    "elif 81 <= score and score <= 90:\n",
    "    grade = 'B+'\n",
    "elif 71 <= score and score <= 80:\n",
    "    grade = 'C+'\n",
    "else:\n",
    "    grade = 'F'\n",
    "\n",
    "print('XXX 학생의 학점은 ' + grade + '이다.')"
   ]
  },
  {
   "cell_type": "code",
   "execution_count": 9,
   "id": "04dd54e7-af63-4c52-8f68-8a52cd96d6a5",
   "metadata": {},
   "outputs": [
    {
     "name": "stdout",
     "output_type": "stream",
     "text": [
      "노장현 학생의 학점은 A+이다.\n"
     ]
    }
   ],
   "source": [
    "score = 100\n",
    "grade = ''\n",
    "name = \"노장현\"\n",
    "if score > 100 or score < 0:\n",
    "    pass\n",
    "else: \n",
    "    if score >= 91:\n",
    "        grade = 'A+'\n",
    "    elif score >= 81:\n",
    "        grade = 'B+'\n",
    "    elif score >= 71:\n",
    "        grade = 'C+'\n",
    "    else:\n",
    "        grade = 'F'\n",
    "    print(f'{name} 학생의 학점은 {grade}이다.')"
   ]
  },
  {
   "cell_type": "markdown",
   "id": "7ca1e214-e4e0-4c52-924a-70eb979ef666",
   "metadata": {},
   "source": [
    "## While Statement"
   ]
  },
  {
   "cell_type": "code",
   "execution_count": 12,
   "id": "b9cf7f2e-2657-49b3-97f4-4833eee6cb93",
   "metadata": {},
   "outputs": [
    {
     "name": "stdout",
     "output_type": "stream",
     "text": [
      "나무를 1번 찍었습니다.\n",
      "나무를 2번 찍었습니다.\n",
      "나무를 3번 찍었습니다.\n",
      "나무를 4번 찍었습니다.\n",
      "나무를 5번 찍었습니다.\n",
      "나무를 6번 찍었습니다.\n",
      "나무를 7번 찍었습니다.\n",
      "나무를 8번 찍었습니다.\n",
      "나무를 9번 찍었습니다.\n",
      "나무를 10번 찍었습니다.\n",
      "나무 넘어감\n"
     ]
    }
   ],
   "source": [
    "a = 1\n",
    "while a <= 10:\n",
    "    print(f'나무를 {a}번 찍었습니다.')\n",
    "    a += 1\n",
    "print('나무 넘어감')"
   ]
  },
  {
   "cell_type": "code",
   "execution_count": 13,
   "id": "2508f855-1e72-4655-a9c7-2fe28e89b2e9",
   "metadata": {},
   "outputs": [
    {
     "name": "stdout",
     "output_type": "stream",
     "text": [
      "\n",
      "1. ADD\n",
      "2. DEL\n",
      "3. LIST\n",
      "4. QUIT\n",
      "\n",
      "Enter Number : \n"
     ]
    },
    {
     "name": "stdin",
     "output_type": "stream",
     "text": [
      " 1\n"
     ]
    },
    {
     "name": "stdout",
     "output_type": "stream",
     "text": [
      "\n",
      "1. ADD\n",
      "2. DEL\n",
      "3. LIST\n",
      "4. QUIT\n",
      "\n",
      "Enter Number : \n"
     ]
    },
    {
     "name": "stdin",
     "output_type": "stream",
     "text": [
      " 2\n"
     ]
    },
    {
     "name": "stdout",
     "output_type": "stream",
     "text": [
      "\n",
      "1. ADD\n",
      "2. DEL\n",
      "3. LIST\n",
      "4. QUIT\n",
      "\n",
      "Enter Number : \n"
     ]
    },
    {
     "name": "stdin",
     "output_type": "stream",
     "text": [
      " 3\n"
     ]
    },
    {
     "name": "stdout",
     "output_type": "stream",
     "text": [
      "\n",
      "1. ADD\n",
      "2. DEL\n",
      "3. LIST\n",
      "4. QUIT\n",
      "\n",
      "Enter Number : \n"
     ]
    },
    {
     "name": "stdin",
     "output_type": "stream",
     "text": [
      " 5\n"
     ]
    },
    {
     "name": "stdout",
     "output_type": "stream",
     "text": [
      "\n",
      "1. ADD\n",
      "2. DEL\n",
      "3. LIST\n",
      "4. QUIT\n",
      "\n",
      "Enter Number : \n"
     ]
    },
    {
     "name": "stdin",
     "output_type": "stream",
     "text": [
      " 0\n"
     ]
    },
    {
     "name": "stdout",
     "output_type": "stream",
     "text": [
      "\n",
      "1. ADD\n",
      "2. DEL\n",
      "3. LIST\n",
      "4. QUIT\n",
      "\n",
      "Enter Number : \n"
     ]
    },
    {
     "name": "stdin",
     "output_type": "stream",
     "text": [
      " 4\n"
     ]
    }
   ],
   "source": [
    "prompt = \"\"\"\n",
    "1. ADD\n",
    "2. DEL\n",
    "3. LIST\n",
    "4. QUIT\n",
    "\n",
    "Enter Number : \"\"\"\n",
    "num = 0\n",
    "while num != 4:\n",
    "    print(prompt)\n",
    "    num = int(input())\n",
    "    "
   ]
  },
  {
   "cell_type": "code",
   "execution_count": 19,
   "id": "58e9740a-efc0-442f-9f1b-30c9e3fbc424",
   "metadata": {},
   "outputs": [
    {
     "name": "stdout",
     "output_type": "stream",
     "text": [
      "돈을 받았으니 커피를 줍니다.\n",
      "남은 커피의 양은 9개입니다.\n",
      "돈을 받았으니 커피를 줍니다.\n",
      "남은 커피의 양은 8개입니다.\n",
      "돈을 받았으니 커피를 줍니다.\n",
      "남은 커피의 양은 7개입니다.\n",
      "돈을 받았으니 커피를 줍니다.\n",
      "남은 커피의 양은 6개입니다.\n",
      "돈을 받았으니 커피를 줍니다.\n",
      "남은 커피의 양은 5개입니다.\n",
      "돈을 받았으니 커피를 줍니다.\n",
      "남은 커피의 양은 4개입니다.\n",
      "돈을 받았으니 커피를 줍니다.\n",
      "남은 커피의 양은 3개입니다.\n",
      "돈을 받았으니 커피를 줍니다.\n",
      "남은 커피의 양은 2개입니다.\n",
      "돈을 받았으니 커피를 줍니다.\n",
      "남은 커피의 양은 1개입니다.\n",
      "돈을 받았으니 커피를 줍니다.\n",
      "남은 커피의 양은 0개입니다.\n",
      "커피가 다 떨어졌습니다.\n"
     ]
    }
   ],
   "source": [
    "num_coffee = 10\n",
    "money = 300\n",
    "\n",
    "while money and num_coffee:\n",
    "    print('돈을 받았으니 커피를 줍니다.')\n",
    "    money -= 1\n",
    "    num_coffee -= 1\n",
    "    print(f'남은 커피의 양은 {num_coffee}개입니다.')\n",
    "    \n",
    "\n",
    "if num_coffee == 0:\n",
    "    print('커피가 다 떨어졌습니다.')\n",
    "\n",
    "if money == 0:\n",
    "    print('돈이 다 떨어졌습니다.')\n",
    "    \n",
    "    "
   ]
  },
  {
   "cell_type": "code",
   "execution_count": 27,
   "id": "47087cc7-cd1c-4d5f-a5ec-306c6a424705",
   "metadata": {},
   "outputs": [
    {
     "name": "stdout",
     "output_type": "stream",
     "text": [
      "현재 남은 커피의 개수: 10\n"
     ]
    },
    {
     "name": "stdin",
     "output_type": "stream",
     "text": [
      "지불할 금액을 입력하세요:  301\n"
     ]
    },
    {
     "name": "stdout",
     "output_type": "stream",
     "text": [
      "거스름돈 1원을 주고 커피를 줍니다.\n",
      "현재 남은 커피의 개수: 9\n"
     ]
    },
    {
     "name": "stdin",
     "output_type": "stream",
     "text": [
      "지불할 금액을 입력하세요:  299\n"
     ]
    },
    {
     "name": "stdout",
     "output_type": "stream",
     "text": [
      "돈을 다시 돌려주고 커피를 주지 않습니다.\n",
      "현재 남은 커피의 개수: 9\n"
     ]
    },
    {
     "name": "stdin",
     "output_type": "stream",
     "text": [
      "지불할 금액을 입력하세요:  301\n"
     ]
    },
    {
     "name": "stdout",
     "output_type": "stream",
     "text": [
      "거스름돈 1원을 주고 커피를 줍니다.\n",
      "현재 남은 커피의 개수: 8\n"
     ]
    },
    {
     "name": "stdin",
     "output_type": "stream",
     "text": [
      "지불할 금액을 입력하세요:  500\n"
     ]
    },
    {
     "name": "stdout",
     "output_type": "stream",
     "text": [
      "거스름돈 200원을 주고 커피를 줍니다.\n",
      "현재 남은 커피의 개수: 7\n"
     ]
    },
    {
     "name": "stdin",
     "output_type": "stream",
     "text": [
      "지불할 금액을 입력하세요:  1\n"
     ]
    },
    {
     "name": "stdout",
     "output_type": "stream",
     "text": [
      "돈을 다시 돌려주고 커피를 주지 않습니다.\n",
      "현재 남은 커피의 개수: 7\n"
     ]
    },
    {
     "name": "stdin",
     "output_type": "stream",
     "text": [
      "지불할 금액을 입력하세요:  1\n"
     ]
    },
    {
     "name": "stdout",
     "output_type": "stream",
     "text": [
      "돈을 다시 돌려주고 커피를 주지 않습니다.\n",
      "현재 남은 커피의 개수: 7\n"
     ]
    },
    {
     "name": "stdin",
     "output_type": "stream",
     "text": [
      "지불할 금액을 입력하세요:  -1\n"
     ]
    },
    {
     "name": "stdout",
     "output_type": "stream",
     "text": [
      "돈을 다시 돌려주고 커피를 주지 않습니다.\n",
      "현재 남은 커피의 개수: 7\n"
     ]
    },
    {
     "name": "stdin",
     "output_type": "stream",
     "text": [
      "지불할 금액을 입력하세요:  101\n"
     ]
    },
    {
     "name": "stdout",
     "output_type": "stream",
     "text": [
      "돈을 다시 돌려주고 커피를 주지 않습니다.\n",
      "현재 남은 커피의 개수: 7\n"
     ]
    },
    {
     "name": "stdin",
     "output_type": "stream",
     "text": [
      "지불할 금액을 입력하세요:  301\n"
     ]
    },
    {
     "name": "stdout",
     "output_type": "stream",
     "text": [
      "거스름돈 1원을 주고 커피를 줍니다.\n",
      "현재 남은 커피의 개수: 6\n"
     ]
    },
    {
     "name": "stdin",
     "output_type": "stream",
     "text": [
      "지불할 금액을 입력하세요:  301\n"
     ]
    },
    {
     "name": "stdout",
     "output_type": "stream",
     "text": [
      "거스름돈 1원을 주고 커피를 줍니다.\n",
      "현재 남은 커피의 개수: 5\n"
     ]
    },
    {
     "name": "stdin",
     "output_type": "stream",
     "text": [
      "지불할 금액을 입력하세요:  301\n"
     ]
    },
    {
     "name": "stdout",
     "output_type": "stream",
     "text": [
      "거스름돈 1원을 주고 커피를 줍니다.\n",
      "현재 남은 커피의 개수: 4\n"
     ]
    },
    {
     "name": "stdin",
     "output_type": "stream",
     "text": [
      "지불할 금액을 입력하세요:  301\n"
     ]
    },
    {
     "name": "stdout",
     "output_type": "stream",
     "text": [
      "거스름돈 1원을 주고 커피를 줍니다.\n",
      "현재 남은 커피의 개수: 3\n"
     ]
    },
    {
     "name": "stdin",
     "output_type": "stream",
     "text": [
      "지불할 금액을 입력하세요:  300\n"
     ]
    },
    {
     "name": "stdout",
     "output_type": "stream",
     "text": [
      "커피를 줍니다.\n",
      "현재 남은 커피의 개수: 2\n"
     ]
    },
    {
     "name": "stdin",
     "output_type": "stream",
     "text": [
      "지불할 금액을 입력하세요:  300\n"
     ]
    },
    {
     "name": "stdout",
     "output_type": "stream",
     "text": [
      "커피를 줍니다.\n",
      "현재 남은 커피의 개수: 1\n"
     ]
    },
    {
     "name": "stdin",
     "output_type": "stream",
     "text": [
      "지불할 금액을 입력하세요:  0\n"
     ]
    },
    {
     "name": "stdout",
     "output_type": "stream",
     "text": [
      "돈을 다시 돌려주고 커피를 주지 않습니다.\n",
      "현재 남은 커피의 개수: 1\n"
     ]
    },
    {
     "name": "stdin",
     "output_type": "stream",
     "text": [
      "지불할 금액을 입력하세요:  -1\n"
     ]
    },
    {
     "name": "stdout",
     "output_type": "stream",
     "text": [
      "돈을 다시 돌려주고 커피를 주지 않습니다.\n",
      "현재 남은 커피의 개수: 1\n"
     ]
    },
    {
     "name": "stdin",
     "output_type": "stream",
     "text": [
      "지불할 금액을 입력하세요:  301\n"
     ]
    },
    {
     "name": "stdout",
     "output_type": "stream",
     "text": [
      "거스름돈 1원을 주고 커피를 줍니다.\n",
      "커피가 다 떨어졌습니다.\n"
     ]
    }
   ],
   "source": [
    "coffee = 10\n",
    "price = 300\n",
    "\n",
    "while coffee:\n",
    "    print(f'현재 남은 커피의 개수: {coffee}')\n",
    "    money = int(input(\"지불할 금액을 입력하세요: \"))\n",
    "\n",
    "    if money == 300:\n",
    "        print('커피를 줍니다.')\n",
    "        coffee -= 1\n",
    "\n",
    "    elif money > 300:\n",
    "        num = money - price\n",
    "        print(f'거스름돈 {num}원을 주고 커피를 줍니다.')\n",
    "        coffee -= 1\n",
    "    else :\n",
    "        print('돈을 다시 돌려주고 커피를 주지 않습니다.')\n",
    "        \n",
    "    \n",
    "print('커피가 다 떨어졌습니다.')"
   ]
  },
  {
   "cell_type": "code",
   "execution_count": 30,
   "id": "51a93894-8547-45d5-8acb-82d15fcd7520",
   "metadata": {},
   "outputs": [
    {
     "name": "stdout",
     "output_type": "stream",
     "text": [
      "1\n",
      "3\n",
      "5\n",
      "7\n",
      "9\n"
     ]
    }
   ],
   "source": [
    "x = 1\n",
    "while x <= 10:\n",
    "    if x % 2:\n",
    "        print(x)\n",
    "    x += 1"
   ]
  },
  {
   "cell_type": "code",
   "execution_count": 57,
   "id": "93ccb251-a995-45f5-a318-c9c9b72bc00c",
   "metadata": {},
   "outputs": [
    {
     "name": "stdout",
     "output_type": "stream",
     "text": [
      "1\n",
      "2\n",
      "3\n",
      "4\n",
      "5\n",
      "6\n",
      "7\n",
      "8\n",
      "9\n",
      "10\n"
     ]
    }
   ],
   "source": [
    "# 1번 문재 - while 써서 1 ~ 10 출력\n",
    "x = 1\n",
    "while x <= 10:\n",
    "    print(x)\n",
    "    x += 1"
   ]
  },
  {
   "cell_type": "code",
   "execution_count": 58,
   "id": "7ebfed10-d395-4bf2-bfce-fd493cc2355d",
   "metadata": {},
   "outputs": [
    {
     "name": "stdin",
     "output_type": "stream",
     "text": [
      "숫자를 입력하세요:  7\n"
     ]
    },
    {
     "name": "stdout",
     "output_type": "stream",
     "text": [
      "7\n",
      "6\n",
      "5\n",
      "4\n",
      "3\n",
      "2\n",
      "1\n"
     ]
    }
   ],
   "source": [
    "# 2\n",
    "x = int(input('숫자를 입력하세요: '))\n",
    "while x:\n",
    "    print(x)\n",
    "    x -= 1"
   ]
  },
  {
   "cell_type": "code",
   "execution_count": 59,
   "id": "3b6e6f6c-2c5e-4170-97e1-8dd9a3bb5c87",
   "metadata": {},
   "outputs": [
    {
     "name": "stdin",
     "output_type": "stream",
     "text": [
      "숫자를 입력하세요 5\n"
     ]
    },
    {
     "name": "stdout",
     "output_type": "stream",
     "text": [
      "120\n"
     ]
    }
   ],
   "source": [
    "# 3\n",
    "x = int(input('숫자를 입력하세요'))\n",
    "num = 1\n",
    "while x:\n",
    "    num *= x\n",
    "    x -= 1\n",
    "print(num)"
   ]
  },
  {
   "cell_type": "code",
   "execution_count": 60,
   "id": "4b820d81-3f55-4d56-8683-f40b1e93a87d",
   "metadata": {},
   "outputs": [
    {
     "name": "stdin",
     "output_type": "stream",
     "text": [
      "입력하세요:  123\n"
     ]
    },
    {
     "name": "stdout",
     "output_type": "stream",
     "text": [
      "123\n"
     ]
    },
    {
     "name": "stdin",
     "output_type": "stream",
     "text": [
      "입력하세요:  123\n"
     ]
    },
    {
     "name": "stdout",
     "output_type": "stream",
     "text": [
      "123\n"
     ]
    },
    {
     "name": "stdin",
     "output_type": "stream",
     "text": [
      "입력하세요:  asduhi\n"
     ]
    },
    {
     "name": "stdout",
     "output_type": "stream",
     "text": [
      "asduhi\n"
     ]
    },
    {
     "name": "stdin",
     "output_type": "stream",
     "text": [
      "입력하세요:  ashdgasd\n"
     ]
    },
    {
     "name": "stdout",
     "output_type": "stream",
     "text": [
      "ashdgasd\n"
     ]
    },
    {
     "name": "stdin",
     "output_type": "stream",
     "text": [
      "입력하세요:  quit\n"
     ]
    }
   ],
   "source": [
    "# 4\n",
    "while True:\n",
    "    x = input('입력하세요: ')\n",
    "    if x == 'quit':\n",
    "        break\n",
    "    print(x)"
   ]
  },
  {
   "cell_type": "code",
   "execution_count": 61,
   "id": "410f77bf-1226-47bc-ac9b-0dc337be187a",
   "metadata": {},
   "outputs": [
    {
     "name": "stdin",
     "output_type": "stream",
     "text": [
      "숫자의 개수를 입력하세요:  5\n",
      "숫자1 :  3\n",
      "숫자2 :  12123\n",
      "숫자3 :  4123\n",
      "숫자4 :  -1\n",
      "숫자5 :  1238\n"
     ]
    },
    {
     "name": "stdout",
     "output_type": "stream",
     "text": [
      "1238\n",
      "-1\n",
      "4123\n",
      "12123\n",
      "3\n"
     ]
    }
   ],
   "source": [
    "x = int(input('숫자의 개수를 입력하세요: '))\n",
    "lis = []\n",
    "i = 1\n",
    "\n",
    "n = x\n",
    "while n:\n",
    "    num = int(input(f'숫자{i} : '))\n",
    "    lis.append(num)\n",
    "    n -= 1\n",
    "    i += 1\n",
    "\n",
    "\n",
    "\n",
    "for idx in range(x-1, -1, -1):\n",
    "    print(lis[idx])\n"
   ]
  },
  {
   "cell_type": "markdown",
   "id": "55c74031-f833-4bc7-9aaa-1717a5b27c8f",
   "metadata": {},
   "source": [
    "## For Statement"
   ]
  },
  {
   "cell_type": "code",
   "execution_count": 62,
   "id": "b12b062b-c1f8-45de-992f-84b0a41a9376",
   "metadata": {},
   "outputs": [
    {
     "name": "stdout",
     "output_type": "stream",
     "text": [
      "1\n",
      "2\n",
      "3\n",
      "4\n",
      "5\n",
      "6\n",
      "7\n",
      "8\n",
      "9\n"
     ]
    }
   ],
   "source": [
    "for i in range(1, 10):\n",
    "    print(i)"
   ]
  },
  {
   "cell_type": "code",
   "execution_count": 64,
   "id": "72cd0dc2-70c4-48ac-97cf-00f88798e12b",
   "metadata": {},
   "outputs": [
    {
     "name": "stdout",
     "output_type": "stream",
     "text": [
      "one\n",
      "two\n",
      "three\n"
     ]
    }
   ],
   "source": [
    "for i in ['one', 'two', 'three']:\n",
    "    print(i)\n",
    "    "
   ]
  },
  {
   "cell_type": "markdown",
   "id": "684b2537-c8b0-4ce1-a6e9-8374a683922e",
   "metadata": {},
   "source": [
    "다양한 for문의 활용"
   ]
  },
  {
   "cell_type": "code",
   "execution_count": 65,
   "id": "3c580d9a-f08b-4b33-8e73-533e6dec7e53",
   "metadata": {},
   "outputs": [
    {
     "name": "stdout",
     "output_type": "stream",
     "text": [
      "3\n",
      "7\n",
      "11\n"
     ]
    }
   ],
   "source": [
    "a = [(1, 2), (3, 4), (5, 6)]\n",
    "for first, last in a:\n",
    "    print(first + last)"
   ]
  },
  {
   "cell_type": "code",
   "execution_count": 69,
   "id": "3d47e168-017c-4c5c-be3f-58e7a8cfea16",
   "metadata": {},
   "outputs": [
    {
     "name": "stdout",
     "output_type": "stream",
     "text": [
      "1번 학생은 합격입니다.\n",
      "2번 학생은 불합격입니다. \n",
      "3번 학생은 합격입니다.\n",
      "4번 학생은 불합격입니다. \n",
      "5번 학생은 합격입니다.\n"
     ]
    }
   ],
   "source": [
    "score = [90, 25, 67, 45, 80]\n",
    "num = 1\n",
    "for mark in score:\n",
    "    if mark >= 60:\n",
    "        print(f'{num}번 학생은 합격입니다.')\n",
    "    else :\n",
    "        print(f'{num}번 학생은 불합격입니다. ')\n",
    "    num += 1\n",
    "        "
   ]
  },
  {
   "cell_type": "markdown",
   "id": "af00f331-bd58-426f-9c1e-284f10541fe3",
   "metadata": {},
   "source": [
    "### Eumerate 함수\n",
    "for a, b in enumerate(iterable)\n",
    "--> a는 인덱스, b는 iterable의 원소"
   ]
  },
  {
   "cell_type": "code",
   "execution_count": 72,
   "id": "0c90a176-26c3-4bba-9700-a152d2f91770",
   "metadata": {},
   "outputs": [
    {
     "name": "stdout",
     "output_type": "stream",
     "text": [
      "1번 학생은 합격입니다.\n",
      "2번 학생은 불합격입니다. \n",
      "3번 학생은 합격입니다.\n",
      "4번 학생은 불합격입니다. \n",
      "5번 학생은 합격입니다.\n"
     ]
    }
   ],
   "source": [
    "score = [90, 25, 67, 45, 80]\n",
    "for i, mark in enumerate(score):\n",
    "    if mark >= 60:\n",
    "        print(f'{i +1}번 학생은 합격입니다.')\n",
    "    else :\n",
    "        print(f'{i +1}번 학생은 불합격입니다. ')\n",
    "        "
   ]
  },
  {
   "cell_type": "code",
   "execution_count": 73,
   "id": "3b680625-a02d-48a0-9756-776792580e69",
   "metadata": {},
   "outputs": [
    {
     "name": "stdout",
     "output_type": "stream",
     "text": [
      "1번 학생은 합격입니다.\n",
      "3번 학생은 합격입니다.\n",
      "5번 학생은 합격입니다.\n"
     ]
    }
   ],
   "source": [
    "score = [90, 25, 67, 45, 80]\n",
    "for i, mark in enumerate(score):\n",
    "    if mark < 60: \n",
    "        continue\n",
    "    print(f'{i + 1}번 학생은 합격입니다.')"
   ]
  },
  {
   "cell_type": "markdown",
   "id": "6f686754-c5d4-4f27-806d-5916df9754d6",
   "metadata": {},
   "source": [
    "### PEP8 스타일 가이드\n"
   ]
  },
  {
   "cell_type": "markdown",
   "id": "2e9976b8-8b52-42eb-bd6b-93c8a075585f",
   "metadata": {},
   "source": [
    "### range 함수"
   ]
  },
  {
   "cell_type": "code",
   "execution_count": 76,
   "id": "689e813b-198d-4683-a9aa-c8b8af02f79a",
   "metadata": {},
   "outputs": [
    {
     "name": "stdout",
     "output_type": "stream",
     "text": [
      "1\n",
      "2\n",
      "3\n",
      "4\n",
      "5\n",
      "6\n",
      "7\n",
      "8\n",
      "9\n"
     ]
    }
   ],
   "source": [
    "for i in range(1, 10):\n",
    "    print(i)"
   ]
  },
  {
   "cell_type": "code",
   "execution_count": 78,
   "id": "f15e5714-01b4-48d4-a1aa-5d92c070ddc6",
   "metadata": {},
   "outputs": [
    {
     "name": "stdout",
     "output_type": "stream",
     "text": [
      "range(0, 10)\n",
      "range(0, 10)\n"
     ]
    }
   ],
   "source": [
    "i = range(10)\n",
    "print(i)\n",
    "j = range(0, 10)\n",
    "print(j)"
   ]
  },
  {
   "cell_type": "code",
   "execution_count": 79,
   "id": "018de36a-bf37-4d07-b57f-90b9dfee04c0",
   "metadata": {},
   "outputs": [
    {
     "name": "stdout",
     "output_type": "stream",
     "text": [
      "55\n"
     ]
    }
   ],
   "source": [
    "sum = 0\n",
    "for i in range(11):\n",
    "    sum += i\n",
    "print(sum)"
   ]
  },
  {
   "cell_type": "code",
   "execution_count": 82,
   "id": "7d612632-92c5-4ca9-a08b-4f1d5ca4be92",
   "metadata": {},
   "outputs": [
    {
     "name": "stdout",
     "output_type": "stream",
     "text": [
      "2 4 6 8 10 12 14 16 18 \n",
      "3 6 9 12 15 18 21 24 27 \n",
      "4 8 12 16 20 24 28 32 36 \n",
      "5 10 15 20 25 30 35 40 45 \n",
      "6 12 18 24 30 36 42 48 54 \n",
      "7 14 21 28 35 42 49 56 63 \n",
      "8 16 24 32 40 48 56 64 72 \n",
      "9 18 27 36 45 54 63 72 81 \n"
     ]
    }
   ],
   "source": [
    "for i in range(2, 10):\n",
    "    for j in range(1, 10):\n",
    "        print(i*j, end=' ')\n",
    "    print()"
   ]
  },
  {
   "cell_type": "markdown",
   "id": "22790384-00de-4996-9f3e-eda97a114d59",
   "metadata": {},
   "source": [
    "## List Comprehension\n",
    "\n",
    "리스트 자체를 손쉽게"
   ]
  },
  {
   "cell_type": "code",
   "execution_count": 86,
   "id": "fb82492a-48dd-4f58-80cc-69cc7c6137b2",
   "metadata": {},
   "outputs": [
    {
     "name": "stdout",
     "output_type": "stream",
     "text": [
      "[3, 6, 9, 12]\n"
     ]
    }
   ],
   "source": [
    "a = [1, 2, 3, 4]\n",
    "res = []\n",
    "for num in a:\n",
    "    res.append(num*3)\n",
    "print(res)"
   ]
  },
  {
   "cell_type": "code",
   "execution_count": 89,
   "id": "e20b642e-9153-462a-9b38-94856a6a2c51",
   "metadata": {},
   "outputs": [
    {
     "name": "stdout",
     "output_type": "stream",
     "text": [
      "[3, 6, 9, 12]\n"
     ]
    }
   ],
   "source": [
    "a = [1, 2, 3, 4]\n",
    "res = [num *3 for num in a]\n",
    "print(res)"
   ]
  },
  {
   "cell_type": "code",
   "execution_count": 96,
   "id": "d68721b1-3f98-4cae-a0c8-9ac6b2d3d487",
   "metadata": {},
   "outputs": [
    {
     "name": "stdout",
     "output_type": "stream",
     "text": [
      "[6, 12]\n"
     ]
    }
   ],
   "source": [
    "res = [num * 3 for num in a if num % 2 == 0]\n",
    "print(res)"
   ]
  },
  {
   "cell_type": "markdown",
   "id": "d21da8e9-a982-4e81-8ec3-082ae7a5180c",
   "metadata": {},
   "source": [
    "else까지 들어가는 경우 그냥 comprehension을 많이 안 씀!"
   ]
  },
  {
   "cell_type": "code",
   "execution_count": 100,
   "id": "d4a8ee39-476f-40cb-9079-fc9286cce911",
   "metadata": {},
   "outputs": [
    {
     "name": "stdout",
     "output_type": "stream",
     "text": [
      "[2, 4, 6, 8, 10, 12, 14, 16, 18, 3, 6, 9, 12, 15, 18, 21, 24, 27, 4, 8, 12, 16, 20, 24, 28, 32, 36, 5, 10, 15, 20, 25, 30, 35, 40, 45, 6, 12, 18, 24, 30, 36, 42, 48, 54, 7, 14, 21, 28, 35, 42, 49, 56, 63, 8, 16, 24, 32, 40, 48, 56, 64, 72, 9, 18, 27, 36, 45, 54, 63, 72, 81]\n"
     ]
    }
   ],
   "source": [
    "res = [i * j for i in range(2, 10) for j in range(1,10)] \n",
    "print(res)"
   ]
  },
  {
   "cell_type": "code",
   "execution_count": null,
   "id": "04568bcc-d43e-4bfc-9ffe-814ddf19ac81",
   "metadata": {},
   "outputs": [],
   "source": []
  }
 ],
 "metadata": {
  "kernelspec": {
   "display_name": "Python 3 (ipykernel)",
   "language": "python",
   "name": "python3"
  },
  "language_info": {
   "codemirror_mode": {
    "name": "ipython",
    "version": 3
   },
   "file_extension": ".py",
   "mimetype": "text/x-python",
   "name": "python",
   "nbconvert_exporter": "python",
   "pygments_lexer": "ipython3",
   "version": "3.11.7"
  }
 },
 "nbformat": 4,
 "nbformat_minor": 5
}
