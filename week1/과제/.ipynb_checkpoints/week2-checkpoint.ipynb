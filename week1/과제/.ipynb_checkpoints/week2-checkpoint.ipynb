{
 "cells": [
  {
   "cell_type": "code",
   "execution_count": 61,
   "id": "99e2f899-b0f7-4785-83c7-8f589ee0dba3",
   "metadata": {},
   "outputs": [
    {
     "name": "stdout",
     "output_type": "stream",
     "text": [
      "False\n",
      "-1\n"
     ]
    }
   ],
   "source": [
    "str = '-1'\n",
    "print(str.isdecimal())\n",
    "print(int(str))"
   ]
  },
  {
   "cell_type": "code",
   "execution_count": 68,
   "id": "5afac4b9-0beb-4b84-b424-050d31774651",
   "metadata": {},
   "outputs": [
    {
     "name": "stdin",
     "output_type": "stream",
     "text": [
      "판별할 정수 입력 (X 입력 시 종료) : X\n"
     ]
    },
    {
     "name": "stdout",
     "output_type": "stream",
     "text": [
      "종료\n"
     ]
    }
   ],
   "source": [
    "#1 입력의 음양 판별(X입력시 종료)\n",
    "\n",
    "def is_integer(inp):\n",
    "    if inp[0] == '-':\n",
    "        return inp[1:].isdecimal()\n",
    "    else:\n",
    "        return inp.isdecimal()\n",
    "\n",
    "while True:\n",
    "    inp = input(\"판별할 정수 입력 (X 입력 시 종료) :\")\n",
    "    if inp == 'X':\n",
    "        print(\"종료\")\n",
    "        break\n",
    "    elif is_integer(inp):\n",
    "        n = int(inp)\n",
    "        print(\"양수입니다.\" if n > 0 else (\"음수입니다.\" if n < 0 else \"0입니다.\"))\n",
    "    else:\n",
    "        print(\"잘못된 입력입니다.\")"
   ]
  },
  {
   "cell_type": "code",
   "execution_count": 70,
   "id": "463ed66e-2581-4a29-9b5e-e4c69cf37d82",
   "metadata": {},
   "outputs": [
    {
     "name": "stdin",
     "output_type": "stream",
     "text": [
      "iteration:  0.2\n"
     ]
    },
    {
     "ename": "ValueError",
     "evalue": "invalid literal for int() with base 10: '0.2'",
     "output_type": "error",
     "traceback": [
      "\u001b[0;31m---------------------------------------------------------------------------\u001b[0m",
      "\u001b[0;31mValueError\u001b[0m                                Traceback (most recent call last)",
      "Cell \u001b[0;32mIn[70], line 2\u001b[0m\n\u001b[1;32m      1\u001b[0m \u001b[38;5;66;03m# 2. Fibonacci\u001b[39;00m\n\u001b[0;32m----> 2\u001b[0m n \u001b[38;5;241m=\u001b[39m \u001b[38;5;28mint\u001b[39m(\u001b[38;5;28minput\u001b[39m(\u001b[38;5;124m\"\u001b[39m\u001b[38;5;124miteration: \u001b[39m\u001b[38;5;124m\"\u001b[39m))\n\u001b[1;32m      3\u001b[0m n0 \u001b[38;5;241m=\u001b[39m \u001b[38;5;241m0\u001b[39m\n\u001b[1;32m      4\u001b[0m n1 \u001b[38;5;241m=\u001b[39m \u001b[38;5;241m1\u001b[39m\n",
      "\u001b[0;31mValueError\u001b[0m: invalid literal for int() with base 10: '0.2'"
     ]
    }
   ],
   "source": [
    "# 2. Fibonacci\n",
    "n = int(input(\"iteration: \"))\n",
    "n0 = 0\n",
    "n1 = 1\n",
    "for i in range(n):\n",
    "    print(n1)\n",
    "    tmp = n1\n",
    "    n1 = n0 + n1\n",
    "    n0 = tmp"
   ]
  },
  {
   "cell_type": "code",
   "execution_count": 39,
   "id": "6eeec1fc-e4d2-42a0-a4af-714561846b6b",
   "metadata": {},
   "outputs": [
    {
     "name": "stdout",
     "output_type": "stream",
     "text": [
      "키:  a , 값:  1\n",
      "키:  b , 값:  2\n",
      "키:  c , 값:  3\n",
      "키:  d , 값:  4\n",
      "키:  e , 값:  5\n"
     ]
    }
   ],
   "source": [
    "# 3. 올바른 출력\n",
    "my_dict = {'a': 1, 'b': 2, 'c': 3, 'd': 4, 'e': 5}\n",
    "for key, value in my_dict.items():\n",
    "    print(\"키: \", key, \", 값: \", value)"
   ]
  },
  {
   "cell_type": "code",
   "execution_count": 71,
   "id": "e7bedb28-e530-4091-bf24-bbb8983bc19a",
   "metadata": {},
   "outputs": [
    {
     "name": "stdin",
     "output_type": "stream",
     "text": [
      "판별할 수를 입력하세요.:  1\n"
     ]
    },
    {
     "name": "stdout",
     "output_type": "stream",
     "text": [
      "둘 다 아닙니다.\n"
     ]
    }
   ],
   "source": [
    "# 4. 소수 판별\n",
    "n = int(input(\"판별할 수를 입력하세요.: \"))\n",
    "isPrime = True\n",
    "for i in range(2, int(n**(1/2) + 1)):\n",
    "    if n % i == 0:\n",
    "        print(\"합성수입니다.\")\n",
    "        isPrime = False\n",
    "        break\n",
    "if n == 1:\n",
    "    print(\"둘 다 아닙니다.\")\n",
    "elif isPrime:\n",
    "    print(\"소수입니다.\")"
   ]
  },
  {
   "cell_type": "code",
   "execution_count": 72,
   "id": "daa7b273-f5c1-43f6-943b-9fe5f0c9dd8e",
   "metadata": {},
   "outputs": [
    {
     "name": "stdout",
     "output_type": "stream",
     "text": [
      "Up-Down 게임 시작!\n"
     ]
    },
    {
     "name": "stdin",
     "output_type": "stream",
     "text": [
      "범위를 입력해주세요:  1000\n",
      "숫자를 맞춰보세요(1 ~ 1000):  100\n"
     ]
    },
    {
     "name": "stdout",
     "output_type": "stream",
     "text": [
      "\t --- UP ---\n"
     ]
    },
    {
     "name": "stdin",
     "output_type": "stream",
     "text": [
      "숫자를 맞춰보세요(101 ~ 1000):  -100\n"
     ]
    },
    {
     "name": "stdout",
     "output_type": "stream",
     "text": [
      "\t --- UP ---\n"
     ]
    },
    {
     "name": "stdin",
     "output_type": "stream",
     "text": [
      "숫자를 맞춰보세요(101 ~ 1000):  500\n"
     ]
    },
    {
     "name": "stdout",
     "output_type": "stream",
     "text": [
      "\t --- DOWN ---\n"
     ]
    },
    {
     "name": "stdin",
     "output_type": "stream",
     "text": [
      "숫자를 맞춰보세요(101 ~ 499):  250\n"
     ]
    },
    {
     "name": "stdout",
     "output_type": "stream",
     "text": [
      "\t --- DOWN ---\n"
     ]
    },
    {
     "name": "stdin",
     "output_type": "stream",
     "text": [
      "숫자를 맞춰보세요(101 ~ 249):  200\n"
     ]
    },
    {
     "name": "stdout",
     "output_type": "stream",
     "text": [
      "\t --- DOWN ---\n"
     ]
    },
    {
     "name": "stdin",
     "output_type": "stream",
     "text": [
      "숫자를 맞춰보세요(101 ~ 199):  150\n"
     ]
    },
    {
     "name": "stdout",
     "output_type": "stream",
     "text": [
      "\t --- DOWN ---\n"
     ]
    },
    {
     "name": "stdin",
     "output_type": "stream",
     "text": [
      "숫자를 맞춰보세요(101 ~ 149):  125\n"
     ]
    },
    {
     "name": "stdout",
     "output_type": "stream",
     "text": [
      "\t --- DOWN ---\n"
     ]
    },
    {
     "name": "stdin",
     "output_type": "stream",
     "text": [
      "숫자를 맞춰보세요(101 ~ 124):  114\n"
     ]
    },
    {
     "name": "stdout",
     "output_type": "stream",
     "text": [
      "\t --- DOWN ---\n"
     ]
    },
    {
     "name": "stdin",
     "output_type": "stream",
     "text": [
      "숫자를 맞춰보세요(101 ~ 113):  107\n"
     ]
    },
    {
     "name": "stdout",
     "output_type": "stream",
     "text": [
      "\t --- UP ---\n"
     ]
    },
    {
     "name": "stdin",
     "output_type": "stream",
     "text": [
      "숫자를 맞춰보세요(108 ~ 113):  110\n"
     ]
    },
    {
     "name": "stdout",
     "output_type": "stream",
     "text": [
      "\t --- UP ---\n"
     ]
    },
    {
     "name": "stdin",
     "output_type": "stream",
     "text": [
      "숫자를 맞춰보세요(111 ~ 113):  112\n"
     ]
    },
    {
     "name": "stdout",
     "output_type": "stream",
     "text": [
      "\t --- DOWN ---\n"
     ]
    },
    {
     "name": "stdin",
     "output_type": "stream",
     "text": [
      "숫자를 맞춰보세요(111 ~ 111):  111\n"
     ]
    },
    {
     "name": "stdout",
     "output_type": "stream",
     "text": [
      "\t --- CORRECT! ---\n"
     ]
    },
    {
     "name": "stdin",
     "output_type": "stream",
     "text": [
      "12번 만에 정답을 맞추셨습니다\n",
      "다시 하시겠습니까?(y / n) :  n\n"
     ]
    }
   ],
   "source": [
    "# 5. Up-Down 게임\n",
    "import random\n",
    "continue_ = 'Y'\n",
    "print('Up-Down 게임 시작!')\n",
    "while continue_ == 'Y':\n",
    "    max_ = int(input('범위를 입력해주세요: '))\n",
    "    min_ = 1\n",
    "    tar = random.randint(1, max_)\n",
    "    trys = 1\n",
    "    \n",
    "    while True:\n",
    "        guess = int(input(f'숫자를 맞춰보세요({min_} ~ {max_}): '))\n",
    "        if guess > tar : \n",
    "            print('\\t --- DOWN ---')\n",
    "            max_ = min(max_, guess - 1)\n",
    "        elif guess < tar : \n",
    "            print('\\t --- UP ---')\n",
    "            min_ = max(min_, guess + 1)\n",
    "        else: \n",
    "            print('\\t --- CORRECT! ---')\n",
    "            break\n",
    "        trys += 1\n",
    "\n",
    "    continue_ = input(f'{trys}번 만에 정답을 맞추셨습니다\\n다시 하시겠습니까?(y / n) : ')\n",
    "    \n",
    "    \n",
    "    \n",
    "    "
   ]
  },
  {
   "cell_type": "code",
   "execution_count": 75,
   "id": "44780d2a-eeea-412f-ab55-1e62ec1e4dd6",
   "metadata": {},
   "outputs": [
    {
     "name": "stdout",
     "output_type": "stream",
     "text": [
      "['7', '7', '7']\n"
     ]
    }
   ],
   "source": [
    "str = '777'\n",
    "lis = []\n",
    "for i in str:\n",
    "    lis.append(i)\n",
    "print(lis)"
   ]
  },
  {
   "cell_type": "code",
   "execution_count": null,
   "id": "0a04bfdc-21bc-4c85-8f2e-4e45866591c0",
   "metadata": {},
   "outputs": [],
   "source": []
  }
 ],
 "metadata": {
  "kernelspec": {
   "display_name": "Python 3 (ipykernel)",
   "language": "python",
   "name": "python3"
  },
  "language_info": {
   "codemirror_mode": {
    "name": "ipython",
    "version": 3
   },
   "file_extension": ".py",
   "mimetype": "text/x-python",
   "name": "python",
   "nbconvert_exporter": "python",
   "pygments_lexer": "ipython3",
   "version": "3.11.7"
  }
 },
 "nbformat": 4,
 "nbformat_minor": 5
}
