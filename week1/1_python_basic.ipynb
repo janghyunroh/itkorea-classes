{
 "cells": [
  {
   "cell_type": "markdown",
   "id": "6e98291d-24e7-4fb1-afed-51f91b8f1376",
   "metadata": {},
   "source": [
    "# ipython notebook 사용법\n",
    "\n",
    "\n",
    "- shift + enter : 실행 후 아래로 이동, 없을 시 생성\n",
    "- ctrl + enter  : 실행\n",
    "- enter : 셀 편집\n",
    "- y : 파이썬 코드로 변경\n",
    "- m : 마크다운으로 변경\n",
    "- c : 셀 복사\n",
    "- v : 셀 붙여넣기"
   ]
  },
  {
   "cell_type": "markdown",
   "id": "f4da56da-def4-4289-9758-57d2fa0429fb",
   "metadata": {},
   "source": [
    "# Python Ch 1. Types\n",
    "\n",
    "- Python은 javascript처럼 동적 타입 언어이다.\n",
    "- Type Safety를 run-time때 확인함.\n",
    "- 또한 Python은 모든 변수가 class를 상속받는 강력한 객체지향형 언어이다. "
   ]
  },
  {
   "cell_type": "code",
   "execution_count": 226,
   "id": "dac9d988-5bd2-4564-b28d-7dfd81770b65",
   "metadata": {},
   "outputs": [
    {
     "name": "stdout",
     "output_type": "stream",
     "text": [
      "<class 'int'>\n"
     ]
    }
   ],
   "source": [
    "x_int = 1\n",
    "print(type(x_int))"
   ]
  },
  {
   "cell_type": "code",
   "execution_count": 227,
   "id": "550322e8-8856-45bc-80fe-a904bf0fc321",
   "metadata": {},
   "outputs": [
    {
     "name": "stdout",
     "output_type": "stream",
     "text": [
      "<class 'float'>\n"
     ]
    }
   ],
   "source": [
    "x_float = 1.3\n",
    "print(type(x_float))"
   ]
  },
  {
   "cell_type": "markdown",
   "id": "0fecc4fd-4f8f-485e-9dbe-6990c3e34e8a",
   "metadata": {},
   "source": [
    "## Type 1 : Integer\n",
    "- 데이터 분석에서의 정수 : 범주형(Categorical) 속성의 상수\n",
    "- 데이터 분석 측면에서는 연산의 대상이 아니기 때문에, 수치의 대소는 큰 의미가 없음."
   ]
  },
  {
   "cell_type": "markdown",
   "id": "aa9afafd-e541-4e1e-90eb-094f26b623de",
   "metadata": {},
   "source": [
    "## Type 2: Floating Points\n",
    "- 데이터 분석에서 실수형 데이터는 연속형 속성을 지니는 데이터이다. "
   ]
  },
  {
   "cell_type": "markdown",
   "id": "ccb9a095-b6be-4718-993b-605c36faefb6",
   "metadata": {},
   "source": [
    "### 실수형 데이터의 지수 표현 방식 - Floating Points \n",
    "(이건 뭐 배운 거니까 굳이 크게 언급은 X.)\n",
    "수학적 큰 수 표기법 차용, 소수점의 이동으로 넓은 범위의 수 표현 가능\n",
    "\n",
    "### 8진수와 16진수 \n",
    "이것도 뭐 굳이 언급은...\n",
    "특이사항은 8진수가 0이 아니라 0o / 0O로 시작함"
   ]
  },
  {
   "cell_type": "markdown",
   "id": "fdcbc568-cebe-4e75-95f8-0ba71ba3e753",
   "metadata": {},
   "source": [
    "## Numerical Type의 연산자"
   ]
  },
  {
   "cell_type": "code",
   "execution_count": 228,
   "id": "dd4c1427-0a4c-4483-9539-aefa3ba88199",
   "metadata": {},
   "outputs": [
    {
     "name": "stdout",
     "output_type": "stream",
     "text": [
      "7\n",
      "1\n",
      "12\n",
      "1.3333333333333333\n",
      "64\n",
      "1\n",
      "1\n"
     ]
    }
   ],
   "source": [
    "a = 4\n",
    "b = 3\n",
    "print(a + b)\n",
    "print(a - b)\n",
    "print(a * b)\n",
    "print(a / b)\n",
    "print(a ** b)\n",
    "print(a // b)\n",
    "print(a % b)"
   ]
  },
  {
   "cell_type": "markdown",
   "id": "10ad61d1-a44b-4bcc-af6f-55ef04ae0895",
   "metadata": {},
   "source": [
    "## Type 3 : String\n",
    "### 따옴표의 차이\n",
    "파이썬에서는 큰 따옴표와 작은 따옴표의 기능적 차이는 존재X.\n",
    "Convention으로 작은 따옴표를 사용하는 것으로 통일하는게 좋음. \n",
    "\n",
    "### 따옴표 연속 3개 사용 - 여러 기능 존재"
   ]
  },
  {
   "cell_type": "markdown",
   "id": "3ec73ef9-3541-4f20-80a8-6efc49b5a336",
   "metadata": {},
   "source": [
    "- 1. multi line string"
   ]
  },
  {
   "cell_type": "code",
   "execution_count": 229,
   "id": "9567d981-4af3-468c-9717-6c2b6bd28686",
   "metadata": {},
   "outputs": [
    {
     "name": "stdout",
     "output_type": "stream",
     "text": [
      "\n",
      "This is a string.\n",
      "It consists of many lines.\n",
      "Total three lines.\n",
      "\n"
     ]
    }
   ],
   "source": [
    "str = \"\"\"\n",
    "This is a string.\n",
    "It consists of many lines.\n",
    "Total three lines.\n",
    "\"\"\"\n",
    "print(str)"
   ]
  },
  {
   "cell_type": "markdown",
   "id": "264d6a44-a102-4061-b591-e69f18906622",
   "metadata": {},
   "source": [
    "- 2.내부에 따옴표 포함하는 문자열 표현"
   ]
  },
  {
   "cell_type": "code",
   "execution_count": 230,
   "id": "b81ebafb-db2f-4634-872c-162db2e9dba0",
   "metadata": {},
   "outputs": [
    {
     "name": "stdout",
     "output_type": "stream",
     "text": [
      " She said, \"Hello, 'world'.\" \n"
     ]
    }
   ],
   "source": [
    "str = \"\"\" She said, \"Hello, 'world'.\" \"\"\"\n",
    "print(str)"
   ]
  },
  {
   "cell_type": "markdown",
   "id": "9c7e2721-755d-4529-a12c-4038e641588a",
   "metadata": {},
   "source": [
    "- 3. Docstring(중요 X) - 주석으로도 사용 가능하기 때문에 주로 함수, 모듈, 패키지 등의 설명에 사용"
   ]
  },
  {
   "cell_type": "markdown",
   "id": "35ef5f37-0605-404b-aff4-5193965a9453",
   "metadata": {},
   "source": [
    "### Escape Code ('\\\\')"
   ]
  },
  {
   "cell_type": "markdown",
   "id": "9475d02c-181a-4b7c-9864-3c2af378d2bb",
   "metadata": {},
   "source": [
    "- \\n\n",
    "- \\t"
   ]
  },
  {
   "cell_type": "markdown",
   "id": "57057d57-6d2b-495b-a207-8f7bb5febaf5",
   "metadata": {},
   "source": [
    "### String 연산"
   ]
  },
  {
   "cell_type": "code",
   "execution_count": 231,
   "id": "9e6a2491-2b7d-42dd-871b-8a3e24cf2371",
   "metadata": {},
   "outputs": [
    {
     "name": "stdout",
     "output_type": "stream",
     "text": [
      "python is fun!\n"
     ]
    }
   ],
   "source": [
    "str1 = 'python'\n",
    "str2 = ' is fun!'\n",
    "print(str1 + str2)"
   ]
  },
  {
   "cell_type": "raw",
   "id": "5baee2dc-eea2-475c-8732-a89e292cf710",
   "metadata": {},
   "source": [
    "str = '222'\n",
    "print(str*3)"
   ]
  },
  {
   "cell_type": "code",
   "execution_count": 232,
   "id": "709d3ff2-98c2-4150-a276-8c6542fbede2",
   "metadata": {},
   "outputs": [
    {
     "name": "stdout",
     "output_type": "stream",
     "text": [
      "================\n",
      "My Program\n",
      "================\n"
     ]
    }
   ],
   "source": [
    "print('='*16 + '\\nMy Program\\n' + '='*16)"
   ]
  },
  {
   "cell_type": "markdown",
   "id": "a13a8cf0-1af1-4e79-ba1d-b5ab418c4a75",
   "metadata": {},
   "source": [
    "### Iterable : 반복 가능 객체\n",
    "각 요소와 위치 속성을 가지고 있는 데이터 타입\n",
    "for loop와 같이 쓰면 좋음!\n",
    "- list\n",
    "- tuple\n",
    "- string\n",
    "- dictionary\n",
    "- set\n",
    "- 등등\n",
    "\n",
    "__iter__() 메서드 - 해당 데이터 타입의 이터레이터 반환\n",
    "\n",
    "__next__() 메서드 - 이터레이터 타입이 가지는 메서드. 해당 이터레이터의 \"다음으로 정의된\" 이터레이터 반환"
   ]
  },
  {
   "cell_type": "markdown",
   "id": "70395d02-9374-4986-833f-e6706a0bf99c",
   "metadata": {},
   "source": [
    "#### Indexing"
   ]
  },
  {
   "cell_type": "code",
   "execution_count": 233,
   "id": "32b14793-fe50-44c5-b6d1-945ce7932490",
   "metadata": {},
   "outputs": [
    {
     "name": "stdout",
     "output_type": "stream",
     "text": [
      "L\n"
     ]
    }
   ],
   "source": [
    "a = 'Life is too short, You need python'\n",
    "print(a[0])"
   ]
  },
  {
   "cell_type": "markdown",
   "id": "b8c01d93-0f15-4f2d-9941-646ef4f61ff0",
   "metadata": {},
   "source": [
    "#### Slicing "
   ]
  },
  {
   "cell_type": "code",
   "execution_count": 234,
   "id": "b7556ec9-b78e-4d84-a842-8a034d20863a",
   "metadata": {},
   "outputs": [
    {
     "name": "stdout",
     "output_type": "stream",
     "text": [
      "Life\n",
      " is too short, You need python\n"
     ]
    }
   ],
   "source": [
    "print(a[:4])\n",
    "print(a[4:])"
   ]
  },
  {
   "cell_type": "code",
   "execution_count": 235,
   "id": "1e300be7-63aa-4e0a-8ce0-f5a95829f797",
   "metadata": {},
   "outputs": [
    {
     "name": "stdout",
     "output_type": "stream",
     "text": [
      "0518 sunny\n"
     ]
    }
   ],
   "source": [
    "str = '20240518 sunny'\n",
    "date = str[4:8]\n",
    "weather = str[9:]\n",
    "print(date, weather)"
   ]
  },
  {
   "cell_type": "markdown",
   "id": "7a5d509a-2a73-4752-9d0a-1400e1272108",
   "metadata": {},
   "source": [
    "### Immutable - 불변 객체\n",
    "- 튜플\n",
    "- 문자열 : 새 요소를 만들어 할당\n",
    "- 숫자형 : 객체를 생성하여 할당"
   ]
  },
  {
   "cell_type": "markdown",
   "id": "f150bb16-18bb-42f4-9bed-75ae404ce7b5",
   "metadata": {},
   "source": [
    "### Formatting\n",
    "\n",
    "기존 C++의 포맷팅: printf(\"%d|%f|...\", var1, var2, ...);\n",
    "\n",
    "python의 포맷팅: print(\"%d...\" %var)\n",
    "\n",
    "파이썬에서는 따옴표 안의 모든 원소는 문자열로 포맷되기 때문에 포맷코드는 %s로 통일 가능!"
   ]
  },
  {
   "cell_type": "code",
   "execution_count": 236,
   "id": "e208f251-5f04-41ee-95c3-61070d6202fc",
   "metadata": {},
   "outputs": [
    {
     "name": "stdout",
     "output_type": "stream",
     "text": [
      "I ate 3 apples.\n"
     ]
    }
   ],
   "source": [
    "print('I ate %d apples.' %3)"
   ]
  },
  {
   "cell_type": "code",
   "execution_count": 237,
   "id": "f479b4db-0b06-4a96-a17c-f4fcd9242001",
   "metadata": {},
   "outputs": [
    {
     "name": "stdout",
     "output_type": "stream",
     "text": [
      "I ate 3 apples.\n"
     ]
    }
   ],
   "source": [
    "print('I ate %s apples.' %3)"
   ]
  },
  {
   "cell_type": "markdown",
   "id": "dbdc805e-3b84-43d9-ba15-f18d1465a3cc",
   "metadata": {},
   "source": [
    "#### 주로 사용하는 Formatting 방식\n",
    "- socket 사용\n",
    "    indexing\n",
    "    value\n",
    "    혼용"
   ]
  },
  {
   "cell_type": "code",
   "execution_count": 238,
   "id": "137e73f1-4eeb-4f78-ae5d-e34be189346b",
   "metadata": {},
   "outputs": [
    {
     "name": "stdout",
     "output_type": "stream",
     "text": [
      "I ate 3 apples.\n"
     ]
    }
   ],
   "source": [
    "print('I ate {0} apples.' .format(3))"
   ]
  },
  {
   "cell_type": "code",
   "execution_count": 239,
   "id": "8bb70c2c-ec79-44a9-b399-2368fe2345c9",
   "metadata": {},
   "outputs": [
    {
     "name": "stdout",
     "output_type": "stream",
     "text": [
      "I ate 3 apples, and I was sick for three days.\n"
     ]
    }
   ],
   "source": [
    "apples = 3\n",
    "days = 'three'\n",
    "print('I ate {0} apples, and I was sick for {1} days.'.format(apples, days))"
   ]
  },
  {
   "cell_type": "code",
   "execution_count": 240,
   "id": "67cb0b94-09eb-48cd-b2d4-a38907330b7a",
   "metadata": {},
   "outputs": [
    {
     "name": "stdout",
     "output_type": "stream",
     "text": [
      "I ate 3 apples, and I was sick for three days.\n"
     ]
    }
   ],
   "source": [
    "print('I ate {apples} apples, and I was sick for {days} days.'.format(apples = 3, days = 'three'))"
   ]
  },
  {
   "cell_type": "markdown",
   "id": "37ea50d8-631b-45c0-b6f0-5ce64771eecf",
   "metadata": {},
   "source": [
    "- fstring 사용"
   ]
  },
  {
   "cell_type": "code",
   "execution_count": 241,
   "id": "91dbb4c5-abb5-442e-a909-8eee3a814f04",
   "metadata": {},
   "outputs": [
    {
     "name": "stdout",
     "output_type": "stream",
     "text": [
      "저는 노장현이고 25살입니다.\n"
     ]
    }
   ],
   "source": [
    "name = '노장현'\n",
    "age = 25\n",
    "print(f'저는 {name}이고 {age}살입니다.')"
   ]
  },
  {
   "cell_type": "code",
   "execution_count": 242,
   "id": "2bba57f1-b849-4a6e-809d-f50b5c38a701",
   "metadata": {},
   "outputs": [
    {
     "name": "stdout",
     "output_type": "stream",
     "text": [
      "26\n"
     ]
    }
   ],
   "source": [
    "print(f'{age + 1}')"
   ]
  },
  {
   "cell_type": "markdown",
   "id": "eb49fa25-4fab-4733-8240-78e3417e2586",
   "metadata": {},
   "source": [
    "fstring의 문자열 정렬"
   ]
  },
  {
   "cell_type": "code",
   "execution_count": 243,
   "id": "0c46df47-6029-4ddc-88da-265cbbfbe22f",
   "metadata": {},
   "outputs": [
    {
     "name": "stdout",
     "output_type": "stream",
     "text": [
      "hi        \n",
      "        hi\n",
      "    hi    \n"
     ]
    }
   ],
   "source": [
    "print(f\"{'hi':<10}\")\n",
    "print(f\"{'hi':>10}\")\n",
    "print(f\"{'hi':^10}\")"
   ]
  },
  {
   "cell_type": "code",
   "execution_count": 244,
   "id": "291e1454-805e-419a-8d83-91e89322ac92",
   "metadata": {},
   "outputs": [
    {
     "name": "stdout",
     "output_type": "stream",
     "text": [
      "==============================\n",
      "          My Program          \n",
      "==============================\n"
     ]
    }
   ],
   "source": [
    "print('='*30 + '\\n' + f\"{'My Program':^30}\" + '\\n' + '='*30)"
   ]
  },
  {
   "cell_type": "markdown",
   "id": "a904c9f7-dad0-410b-83fc-0e9c1d8150f7",
   "metadata": {},
   "source": [
    "공백문자를 다른 문자로 지정도 가능"
   ]
  },
  {
   "cell_type": "code",
   "execution_count": 245,
   "id": "d95bfd2e-934b-47ad-9e2b-a21fd5ca72d6",
   "metadata": {},
   "outputs": [
    {
     "name": "stdout",
     "output_type": "stream",
     "text": [
      "====hi====\n"
     ]
    }
   ],
   "source": [
    "print(f\"{'hi':=^10}\")"
   ]
  },
  {
   "cell_type": "markdown",
   "id": "10acdb4d-8e6d-4637-a0fa-27705f791eb1",
   "metadata": {},
   "source": [
    "floating point precision"
   ]
  },
  {
   "cell_type": "code",
   "execution_count": 246,
   "id": "a1c90041-2293-4bec-9562-a8f2a1055b03",
   "metadata": {},
   "outputs": [
    {
     "name": "stdout",
     "output_type": "stream",
     "text": [
      "3.1416\n"
     ]
    }
   ],
   "source": [
    "y = 3.14159265\n",
    "print(f\"{y:.4f}\")"
   ]
  },
  {
   "cell_type": "markdown",
   "id": "eb98535f-9184-4d35-9029-636a1d8f1807",
   "metadata": {},
   "source": [
    "### String 관련 Function들"
   ]
  },
  {
   "cell_type": "markdown",
   "id": "af8934d8-c819-47f0-801d-ee6598251eb1",
   "metadata": {},
   "source": [
    "- count(elem) : 문자열에 포함된 원소 개수"
   ]
  },
  {
   "cell_type": "code",
   "execution_count": 247,
   "id": "fb86dc34-9def-44a0-9826-de1d992bed0f",
   "metadata": {},
   "outputs": [
    {
     "name": "stdout",
     "output_type": "stream",
     "text": [
      "2\n"
     ]
    }
   ],
   "source": [
    "str = 'happy'\n",
    "print(str.count('p'))"
   ]
  },
  {
   "cell_type": "markdown",
   "id": "c95e44b4-48e1-4a8c-8b67-a919c59dab8d",
   "metadata": {},
   "source": [
    "- find(elem): 문자열에서 해당 원소를 찾아 처음 등장하는 인덱스 출력, 없을 시 -1 반환"
   ]
  },
  {
   "cell_type": "markdown",
   "id": "d919a751-9a81-4cf1-9e0d-9776be0ce5a4",
   "metadata": {},
   "source": [
    "- index(elem) : 문자열에서 해당 원소를 찾아 처음 등장하는 인덱스 출력, 없을 시 ValueError 발생"
   ]
  },
  {
   "cell_type": "code",
   "execution_count": 248,
   "id": "04379055-96c9-4ade-a976-c8f394b16775",
   "metadata": {},
   "outputs": [
    {
     "name": "stdout",
     "output_type": "stream",
     "text": [
      "2\n",
      "2\n"
     ]
    }
   ],
   "source": [
    "print(str.find('p'))\n",
    "print(str.index('p'))"
   ]
  },
  {
   "cell_type": "markdown",
   "id": "03275cbc-8c86-40b5-9ecf-36601feb14fa",
   "metadata": {},
   "source": [
    "- seperator.join(string(iterable)): string의 모든 원소를 구분자를 사이에 두고 모두 연결.   "
   ]
  },
  {
   "cell_type": "code",
   "execution_count": 249,
   "id": "df7e5c37-813c-4fe0-baa9-ff2a42e149a6",
   "metadata": {},
   "outputs": [
    {
     "name": "stdout",
     "output_type": "stream",
     "text": [
      "h.a.p.p.y\n"
     ]
    }
   ],
   "source": [
    "print('.'.join(str))"
   ]
  },
  {
   "cell_type": "markdown",
   "id": "e1badb50-5a8e-44e0-b747-3e71302b2dea",
   "metadata": {},
   "source": [
    "- string.lower() : 전문 소문자화\n",
    "- string.upper() : 전문 대문자화"
   ]
  },
  {
   "cell_type": "code",
   "execution_count": 250,
   "id": "2e84bd9e-caa9-4456-bb02-b74251961708",
   "metadata": {},
   "outputs": [
    {
     "name": "stdout",
     "output_type": "stream",
     "text": [
      "abcdefg\n",
      "ABCDEFG\n"
     ]
    }
   ],
   "source": [
    "str = 'aBcDeFg'\n",
    "print(str.lower())\n",
    "\n",
    "print(str.upper())"
   ]
  },
  {
   "cell_type": "markdown",
   "id": "9171fb76-da68-45fa-8d1f-8a20e8975f9f",
   "metadata": {},
   "source": [
    "- string.strip(elem) : 문자열에서 elem 문자를 양쪽에서부터 제거(생략 시 공백)\n",
    "- string.lstrip(elem) : 왼쪽만 수행\n",
    "- string.rstrip(elem) : 오른쪽만 수행"
   ]
  },
  {
   "cell_type": "code",
   "execution_count": 251,
   "id": "73b7806b-5b8a-4360-96ef-16e5bf3b7c08",
   "metadata": {},
   "outputs": [
    {
     "name": "stdout",
     "output_type": "stream",
     "text": [
      "as df  \n",
      "   as df\n",
      "as df\n"
     ]
    }
   ],
   "source": [
    "str1 = \"   as df  \"\n",
    "print(str1.lstrip())\n",
    "print(str1.rstrip())\n",
    "print(str1.strip())"
   ]
  },
  {
   "cell_type": "code",
   "execution_count": 252,
   "id": "02fa402b-fefc-4303-a17b-165ef4bdeacd",
   "metadata": {},
   "outputs": [
    {
     "name": "stdout",
     "output_type": "stream",
     "text": [
      "as@df@@\n",
      "@@@as@df\n",
      "as@df\n"
     ]
    }
   ],
   "source": [
    "str2 = \"@@@as@df@@\"\n",
    "print(str2.lstrip('@'))\n",
    "print(str2.rstrip('@'))\n",
    "print(str2.strip('@'))"
   ]
  },
  {
   "cell_type": "markdown",
   "id": "1e8dbf7b-19ad-4bef-8d51-6c4689a2aaf6",
   "metadata": {},
   "source": [
    "- string.replace('원본 문자열', '대체 문자열') : 문자열의 원본 부분 문자열을 대체"
   ]
  },
  {
   "cell_type": "code",
   "execution_count": 253,
   "id": "e654b424-42d0-4279-9faf-d04c1719a09f",
   "metadata": {},
   "outputs": [
    {
     "name": "stdout",
     "output_type": "stream",
     "text": [
      "My name is Alice.\n"
     ]
    }
   ],
   "source": [
    "str = 'My name is Brain.'\n",
    "print(str.replace('Brain', 'Alice'))"
   ]
  },
  {
   "cell_type": "markdown",
   "id": "dde67742-8879-4582-848d-7952a8333c93",
   "metadata": {},
   "source": [
    "- string.split(separator) : 문자열을 구분자 기준으로 나누기"
   ]
  },
  {
   "cell_type": "code",
   "execution_count": 254,
   "id": "ffa72c92-f67f-4bfd-96cf-f26a87669e9e",
   "metadata": {},
   "outputs": [
    {
     "name": "stdout",
     "output_type": "stream",
     "text": [
      "['a', 'b', 'c', 'd']\n"
     ]
    }
   ],
   "source": [
    "str = 'a,b,c,d'\n",
    "lis = str.split(',')\n",
    "print(lis)"
   ]
  },
  {
   "cell_type": "markdown",
   "id": "e2257756-1da2-4936-b37b-77b90eb653d3",
   "metadata": {},
   "source": [
    "# Python Ch 2. Data Structures"
   ]
  },
  {
   "cell_type": "markdown",
   "id": "1a8860ab-c475-4473-b2cd-b0b3643e96ec",
   "metadata": {},
   "source": [
    "## [1] List"
   ]
  },
  {
   "cell_type": "markdown",
   "id": "07367ee9-f7d3-4a7c-8f4b-996964397609",
   "metadata": {},
   "source": [
    "가장 대표적인 Heterogeneous Iteratable 자료형"
   ]
  },
  {
   "cell_type": "markdown",
   "id": "87c92cb7-fe3f-417d-b772-2ce52bf13c75",
   "metadata": {},
   "source": [
    "### 문자열과 가장 큰 차이점"
   ]
  },
  {
   "cell_type": "markdown",
   "id": "b7b9ce24-b2c7-4421-ab5e-f48cfead18a2",
   "metadata": {},
   "source": [
    "- 각 원소의 자료형 -> 문자열 연산이 아닌 각 자료형의 연산이 바로 가능"
   ]
  },
  {
   "cell_type": "code",
   "execution_count": 255,
   "id": "fa054834-0768-4da2-b693-c9f08340f3e8",
   "metadata": {},
   "outputs": [
    {
     "name": "stdout",
     "output_type": "stream",
     "text": [
      "4\n"
     ]
    }
   ],
   "source": [
    "lis = [1, 2, ['a', True, [1, 'asd', 2, '2'], 2], 4, 7, ]\n",
    "print(lis[2][2][2] + lis[2][3])"
   ]
  },
  {
   "cell_type": "code",
   "execution_count": 256,
   "id": "1c332ac6-c850-4de0-99c7-db89525db0b3",
   "metadata": {},
   "outputs": [
    {
     "name": "stdout",
     "output_type": "stream",
     "text": [
      "['a', 'b']\n"
     ]
    }
   ],
   "source": [
    "lis = [1, 2, ['a', 'b', 'c'], 4, 5]\n",
    "print(lis[2][:2])"
   ]
  },
  {
   "cell_type": "markdown",
   "id": "44459b4e-c583-4fb0-8e71-fd140aaf36d9",
   "metadata": {},
   "source": [
    "- 리스트 덧셈"
   ]
  },
  {
   "cell_type": "code",
   "execution_count": 257,
   "id": "0201e887-4ac4-4ad4-b4f6-8c04652da7d9",
   "metadata": {},
   "outputs": [
    {
     "name": "stdout",
     "output_type": "stream",
     "text": [
      "[1, 2, 3, 4, 5, 6]\n"
     ]
    }
   ],
   "source": [
    "lis_a = [1, 2, 3]\n",
    "lis_b = [4, 5, 6]\n",
    "print(lis_a + lis_b)"
   ]
  },
  {
   "cell_type": "markdown",
   "id": "11a245da-dffd-4368-bd00-39b7dc190918",
   "metadata": {},
   "source": [
    "- 리스트 곱셈"
   ]
  },
  {
   "cell_type": "code",
   "execution_count": 258,
   "id": "9130ffe9-2e27-4a9c-a4a8-cbc43c29a836",
   "metadata": {},
   "outputs": [
    {
     "name": "stdout",
     "output_type": "stream",
     "text": [
      "[1, 2, 3, 1, 2, 3, 1, 2, 3]\n"
     ]
    }
   ],
   "source": [
    "print(lis_a *3)"
   ]
  },
  {
   "cell_type": "markdown",
   "id": "9d7d3b14-de2a-4b7f-9e6d-02993abb67b8",
   "metadata": {},
   "source": [
    "- 리스트의 특정 원소 수정"
   ]
  },
  {
   "cell_type": "code",
   "execution_count": 259,
   "id": "bbf8b9b5-548d-487a-abae-447d802deed2",
   "metadata": {},
   "outputs": [
    {
     "name": "stdout",
     "output_type": "stream",
     "text": [
      "[1, 5, 3]\n"
     ]
    }
   ],
   "source": [
    "lis_a[1] = 5\n",
    "print(lis_a)"
   ]
  },
  {
   "cell_type": "markdown",
   "id": "8da4dcfa-f113-4a73-9acc-e00a02750ac1",
   "metadata": {},
   "source": [
    "- 리스트의 특정 원소 삭제"
   ]
  },
  {
   "cell_type": "code",
   "execution_count": 260,
   "id": "516419a5-c60b-44e1-9536-e00230b18c21",
   "metadata": {},
   "outputs": [
    {
     "name": "stdout",
     "output_type": "stream",
     "text": [
      "Life is too short, You need python\n"
     ]
    }
   ],
   "source": [
    "del(lis_a[1])\n",
    "print(a)"
   ]
  },
  {
   "cell_type": "markdown",
   "id": "ee1d5519-81a1-4c5a-a517-2d104cc4c236",
   "metadata": {},
   "source": [
    "- 리스트의 다중 원소 삭제"
   ]
  },
  {
   "cell_type": "code",
   "execution_count": 261,
   "id": "a5caddc1-141d-480d-ab54-e5454dc14573",
   "metadata": {},
   "outputs": [
    {
     "name": "stdout",
     "output_type": "stream",
     "text": [
      "[1, 2]\n"
     ]
    }
   ],
   "source": [
    "lis = [1, 2, 3, 4, 5]\n",
    "del(lis[2:])\n",
    "print(lis)"
   ]
  },
  {
   "cell_type": "markdown",
   "id": "7baa89b2-9d62-4298-9c3a-bc7b6e76dbc0",
   "metadata": {},
   "source": [
    "### List의 주요 함수"
   ]
  },
  {
   "cell_type": "markdown",
   "id": "9f2be1d3-7718-447b-a597-587224551501",
   "metadata": {},
   "source": [
    "- list.append(elem) : list의 끝에 elem 삽입"
   ]
  },
  {
   "cell_type": "code",
   "execution_count": 262,
   "id": "eb52c53f-039f-433d-b4e8-16076dec1ee5",
   "metadata": {},
   "outputs": [
    {
     "name": "stdout",
     "output_type": "stream",
     "text": [
      "[1, 2, 3, 4]\n"
     ]
    }
   ],
   "source": [
    "lis = [1, 2, 3]\n",
    "lis.append(4)\n",
    "print(lis)"
   ]
  },
  {
   "cell_type": "markdown",
   "id": "42d6b144-f66a-4d3b-8a08-921d5387ec19",
   "metadata": {},
   "source": [
    "- list.sort(reverse=False) : list 정렬. reverse option으로 내림차순"
   ]
  },
  {
   "cell_type": "code",
   "execution_count": 263,
   "id": "63ceec41-0c73-4711-af10-17222f2f8600",
   "metadata": {},
   "outputs": [
    {
     "name": "stdout",
     "output_type": "stream",
     "text": [
      "[1, 2, 3, 4]\n"
     ]
    }
   ],
   "source": [
    "lis.sort()\n",
    "print(lis)"
   ]
  },
  {
   "cell_type": "code",
   "execution_count": 264,
   "id": "6cd06ca2-e402-494f-a16b-e1fa49d97bb7",
   "metadata": {},
   "outputs": [
    {
     "name": "stdout",
     "output_type": "stream",
     "text": [
      "[4, 3, 2, 1]\n"
     ]
    }
   ],
   "source": [
    "lis.sort(reverse=True)\n",
    "print(lis)"
   ]
  },
  {
   "cell_type": "markdown",
   "id": "3d000aa4-78b7-420c-a317-e802880472f0",
   "metadata": {},
   "source": [
    "- list.index(idx)"
   ]
  },
  {
   "cell_type": "code",
   "execution_count": 265,
   "id": "3c81fd77-c41c-4a92-9eb3-daa34ff36efd",
   "metadata": {},
   "outputs": [
    {
     "name": "stdout",
     "output_type": "stream",
     "text": [
      "1\n"
     ]
    }
   ],
   "source": [
    "print(lis.index(3))"
   ]
  },
  {
   "cell_type": "markdown",
   "id": "06671158-5721-44b9-943e-455dd0de9f02",
   "metadata": {},
   "source": [
    "- list.insert(idx, elem) : list의 idx 위치에 elem 삽입"
   ]
  },
  {
   "cell_type": "code",
   "execution_count": 266,
   "id": "df58afb5-eec0-4a7f-947a-04efaa311091",
   "metadata": {},
   "outputs": [
    {
     "name": "stdout",
     "output_type": "stream",
     "text": [
      "[4, 3.5, 3, 2, 1]\n"
     ]
    }
   ],
   "source": [
    "lis.insert(1, 3.5)\n",
    "print(lis)"
   ]
  },
  {
   "cell_type": "markdown",
   "id": "f42957b8-4ee1-4f5d-a470-d52adbaeb63f",
   "metadata": {},
   "source": [
    "- list.remove(elem) : list의 특정 '첫' 원소 삭제"
   ]
  },
  {
   "cell_type": "code",
   "execution_count": 267,
   "id": "5790fd47-8e4c-4989-bf9f-91ee06b31bd2",
   "metadata": {},
   "outputs": [
    {
     "name": "stdout",
     "output_type": "stream",
     "text": [
      "[4, 3.5, 3, 2]\n"
     ]
    }
   ],
   "source": [
    "lis.remove(1)\n",
    "print(lis)"
   ]
  },
  {
   "cell_type": "markdown",
   "id": "80c65c25-187a-419f-804d-0ba6f425980c",
   "metadata": {},
   "source": [
    "- list.pop(idx) : list의 특정 idx 원소 pop"
   ]
  },
  {
   "cell_type": "code",
   "execution_count": 268,
   "id": "5fd8dbd5-78d7-4a77-92fc-b9390c1e9029",
   "metadata": {},
   "outputs": [
    {
     "name": "stdout",
     "output_type": "stream",
     "text": [
      "3\n"
     ]
    }
   ],
   "source": [
    "print(lis.pop(2))"
   ]
  },
  {
   "cell_type": "markdown",
   "id": "a2489467-58d7-400c-9be4-2e1389dede1c",
   "metadata": {},
   "source": [
    "- list.count(elem) : list 내 elem의 개수 "
   ]
  },
  {
   "cell_type": "code",
   "execution_count": 269,
   "id": "f8b779eb-8ec5-47f6-9c63-97f46eeac8c8",
   "metadata": {},
   "outputs": [
    {
     "name": "stdout",
     "output_type": "stream",
     "text": [
      "1\n"
     ]
    }
   ],
   "source": [
    "print(lis.count(4))"
   ]
  },
  {
   "cell_type": "markdown",
   "id": "c33dfd43-493e-4a30-ada1-929733d645bd",
   "metadata": {},
   "source": [
    "- list1.extend(list2) : list1 뒤에 list2 attach"
   ]
  },
  {
   "cell_type": "code",
   "execution_count": 270,
   "id": "5ad393a8-91e0-41cc-bdc1-0c76f4e337bb",
   "metadata": {},
   "outputs": [
    {
     "name": "stdout",
     "output_type": "stream",
     "text": [
      "[4, 3.5, 2, 1, 2]\n"
     ]
    }
   ],
   "source": [
    "lis.extend([1, 2])\n",
    "print(lis)"
   ]
  },
  {
   "cell_type": "markdown",
   "id": "06cc688a-87c8-4acc-b244-abaeb279d44d",
   "metadata": {},
   "source": [
    "## [2] Tuple"
   ]
  },
  {
   "cell_type": "markdown",
   "id": "bb06dc87-eafb-4d7b-86a9-0c1fba251e1b",
   "metadata": {},
   "source": [
    "리스트와 유사하지만 Immutable"
   ]
  },
  {
   "cell_type": "code",
   "execution_count": 271,
   "id": "4d117fb5-f44c-44ef-bee9-904bb29cd1a9",
   "metadata": {},
   "outputs": [],
   "source": [
    "t1 = (1, 2)\n",
    "t2 = (1, (2, 3))\n",
    "t3 = (1, )\n",
    "t4 = 1, 2, 3\n",
    "t5 = ()"
   ]
  },
  {
   "cell_type": "code",
   "execution_count": 272,
   "id": "3b64e7c4-f924-4a01-a429-1ed7e39e1956",
   "metadata": {},
   "outputs": [
    {
     "name": "stdout",
     "output_type": "stream",
     "text": [
      "2\n"
     ]
    }
   ],
   "source": [
    "print(t2[1][0])"
   ]
  },
  {
   "cell_type": "markdown",
   "id": "24a79760-5d36-4bbb-8f94-16becf356723",
   "metadata": {},
   "source": [
    "## [3] Dictionary"
   ]
  },
  {
   "cell_type": "markdown",
   "id": "5cd2fd37-ecac-4bdf-a50b-88ddfc2446b3",
   "metadata": {},
   "source": [
    "key-value 쌍으로 존재하는 자료구조\n",
    "\n",
    "key는 고유성과 불변성을 가짐."
   ]
  },
  {
   "cell_type": "code",
   "execution_count": 273,
   "id": "fd162f93-3051-42d4-b3c2-defb4a93d75e",
   "metadata": {},
   "outputs": [
    {
     "name": "stdout",
     "output_type": "stream",
     "text": [
      "{'Life is too short, You need python': 'asd', 'name': 'Brain', 'phone': '01012345678', 'birth': '20000609'}\n",
      "<class 'dict'>\n",
      "{'Life is too short, You need python': 'asd', 'name': 'Brain', 'phone': '01012345678', 'birth': '20000609', 3: 'asd'}\n"
     ]
    }
   ],
   "source": [
    "dic = {a : 'asd',\n",
    "        'name' : 'Brain',\n",
    "        'phone' : '01012345678',\n",
    "        'birth' : '20000609'\n",
    "       }\n",
    "print(dic)\n",
    "print(type(dic))\n",
    "dic[b] = 'asd'\n",
    "print(dic)"
   ]
  },
  {
   "cell_type": "code",
   "execution_count": 274,
   "id": "f31bdbdf-0652-4c1c-a261-50fcf5c4021d",
   "metadata": {},
   "outputs": [],
   "source": [
    "del(dic[a], dic[b])"
   ]
  },
  {
   "cell_type": "code",
   "execution_count": 275,
   "id": "64918f59-607b-4ec9-8f1b-87ebd9d7dadf",
   "metadata": {},
   "outputs": [
    {
     "name": "stdout",
     "output_type": "stream",
     "text": [
      "{'name': 'Brain', 'phone': '01012345678', 'birth': '20000609'}\n"
     ]
    }
   ],
   "source": [
    "print(dic)"
   ]
  },
  {
   "cell_type": "markdown",
   "id": "33f9348c-6f70-48e0-a14c-01c403453c53",
   "metadata": {},
   "source": [
    "### Dictionary의 내장 함수"
   ]
  },
  {
   "cell_type": "code",
   "execution_count": 299,
   "id": "7ce6b019-13ff-4050-bc73-5973f52e4d9c",
   "metadata": {},
   "outputs": [],
   "source": [
    "dic = {'name': 'Brain', 'phone': '01077286529', 'birth' : '000609'}"
   ]
  },
  {
   "cell_type": "markdown",
   "id": "610f5148-b1d0-4329-99fe-2e6f631592ff",
   "metadata": {},
   "source": [
    "- key값만 추출"
   ]
  },
  {
   "cell_type": "code",
   "execution_count": 287,
   "id": "38f65180-f3d7-4812-bb78-0b50f1153566",
   "metadata": {},
   "outputs": [
    {
     "name": "stdout",
     "output_type": "stream",
     "text": [
      "dict_keys(['name', 'phone', 'birth'])\n",
      "<class 'dict_keys'>\n",
      "['name', 'phone', 'birth']\n",
      "<class 'list'>\n"
     ]
    }
   ],
   "source": [
    "ans = dic.keys()\n",
    "print(ans)\n",
    "print(type(ans))\n",
    "ans_list = list(ans)\n",
    "print(ans_list)\n",
    "print(type(ans_list))"
   ]
  },
  {
   "cell_type": "markdown",
   "id": "3f623b32-bb84-4aa8-bd1d-f4a91e8e9fb8",
   "metadata": {},
   "source": [
    "-- python의 casting"
   ]
  },
  {
   "cell_type": "code",
   "execution_count": 285,
   "id": "030b9e7e-54b3-45e7-9d3f-415528be1015",
   "metadata": {},
   "outputs": [
    {
     "name": "stdout",
     "output_type": "stream",
     "text": [
      "2\n"
     ]
    }
   ],
   "source": [
    "a = '1'\n",
    "print(int(a) +1)"
   ]
  },
  {
   "cell_type": "markdown",
   "id": "3751ddac-7467-45c8-b043-1a034addae8e",
   "metadata": {},
   "source": [
    "- value값만 추출"
   ]
  },
  {
   "cell_type": "code",
   "execution_count": 291,
   "id": "cbf0d0ef-a241-4dee-8f25-ad951c2327f5",
   "metadata": {},
   "outputs": [
    {
     "name": "stdout",
     "output_type": "stream",
     "text": [
      "dict_values(['Brain', '01077286529', '000609'])\n",
      "<class 'dict_values'>\n"
     ]
    }
   ],
   "source": [
    "ans = dic.values()\n",
    "print(ans)\n",
    "print(type(ans))"
   ]
  },
  {
   "cell_type": "markdown",
   "id": "766b0b8f-dada-4df1-af7e-575f9e578563",
   "metadata": {},
   "source": [
    "- 모든 key, value 쌍을 dictionary로 추출"
   ]
  },
  {
   "cell_type": "code",
   "execution_count": 295,
   "id": "a097c420-9f73-4d46-a20f-621d794adb81",
   "metadata": {},
   "outputs": [
    {
     "name": "stdout",
     "output_type": "stream",
     "text": [
      "dict_items([('name', 'Brain'), ('phone', '01077286529'), ('birth', '000609')])\n"
     ]
    }
   ],
   "source": [
    "ans = dic.items()\n",
    "print(ans)"
   ]
  },
  {
   "cell_type": "markdown",
   "id": "34bba260-5659-4d81-b19d-af1853d77ba0",
   "metadata": {},
   "source": [
    "- 데이터쌍 모두 지우기"
   ]
  },
  {
   "cell_type": "code",
   "execution_count": 298,
   "id": "157f134a-8bd7-4646-8575-252e92d302c3",
   "metadata": {},
   "outputs": [
    {
     "name": "stdout",
     "output_type": "stream",
     "text": [
      "{}\n"
     ]
    }
   ],
   "source": [
    "dic.clear()\n",
    "print(dic)"
   ]
  },
  {
   "cell_type": "markdown",
   "id": "c8f6308e-0bb5-4080-bc3a-4c66235ef485",
   "metadata": {},
   "source": [
    "- key로 value 얻기"
   ]
  },
  {
   "cell_type": "code",
   "execution_count": 300,
   "id": "2b686cb9-4313-4321-b64d-1880674e8b7b",
   "metadata": {},
   "outputs": [
    {
     "data": {
      "text/plain": [
       "'01077286529'"
      ]
     },
     "execution_count": 300,
     "metadata": {},
     "output_type": "execute_result"
    }
   ],
   "source": [
    "dic['phone']"
   ]
  },
  {
   "cell_type": "code",
   "execution_count": 301,
   "id": "14762a77-afcb-4661-a8a6-88a4d74347f0",
   "metadata": {},
   "outputs": [
    {
     "data": {
      "text/plain": [
       "'01077286529'"
      ]
     },
     "execution_count": 301,
     "metadata": {},
     "output_type": "execute_result"
    }
   ],
   "source": [
    "dic.get('phone')"
   ]
  },
  {
   "cell_type": "markdown",
   "id": "55996488-fecd-446a-91d9-e592f9899215",
   "metadata": {},
   "source": [
    "둘의 가장 큰 차이점 : 요구 key 값이 없는 경우 Error / NULL 반환"
   ]
  },
  {
   "cell_type": "code",
   "execution_count": 305,
   "id": "b3221f0a-ad02-4404-bb08-03bd1bbba82e",
   "metadata": {},
   "outputs": [
    {
     "ename": "KeyError",
     "evalue": "'asd'",
     "output_type": "error",
     "traceback": [
      "\u001b[0;31m---------------------------------------------------------------------------\u001b[0m",
      "\u001b[0;31mKeyError\u001b[0m                                  Traceback (most recent call last)",
      "Cell \u001b[0;32mIn[305], line 1\u001b[0m\n\u001b[0;32m----> 1\u001b[0m dic[\u001b[38;5;124m'\u001b[39m\u001b[38;5;124masd\u001b[39m\u001b[38;5;124m'\u001b[39m]\n",
      "\u001b[0;31mKeyError\u001b[0m: 'asd'"
     ]
    }
   ],
   "source": [
    "dic['asd']"
   ]
  },
  {
   "cell_type": "code",
   "execution_count": 306,
   "id": "557c6852-e1e5-4048-bbce-ddc69f85c323",
   "metadata": {},
   "outputs": [],
   "source": [
    "dic.get('get')"
   ]
  },
  {
   "cell_type": "markdown",
   "id": "4bebf6cd-686a-44e5-988b-d4d017508d4b",
   "metadata": {},
   "source": [
    "default 값을 지정할 수도 있음"
   ]
  },
  {
   "cell_type": "code",
   "execution_count": 307,
   "id": "117ee776-07e8-4a15-bedd-5e409b270e0b",
   "metadata": {},
   "outputs": [
    {
     "data": {
      "text/plain": [
       "'female'"
      ]
     },
     "execution_count": 307,
     "metadata": {},
     "output_type": "execute_result"
    }
   ],
   "source": [
    "dic.get('asd', 'female')"
   ]
  },
  {
   "cell_type": "markdown",
   "id": "32805773-17fd-4046-a132-3289b92dfd5c",
   "metadata": {},
   "source": [
    "get 함수의 개념은 개발 전 분야에서 쓰이는 개념!"
   ]
  },
  {
   "cell_type": "markdown",
   "id": "af70e754-9a7f-4821-bef4-b22116711bb9",
   "metadata": {},
   "source": [
    "## [3] Set"
   ]
  },
  {
   "cell_type": "markdown",
   "id": "34beea94-7779-4989-bc56-570c48646235",
   "metadata": {},
   "source": [
    "데이터의 중복을 허용하지 않고, 순서가 존재하지 않는 data structure"
   ]
  },
  {
   "cell_type": "code",
   "execution_count": 310,
   "id": "4a60ebc7-6221-4067-aa56-6b033851c483",
   "metadata": {},
   "outputs": [
    {
     "name": "stdout",
     "output_type": "stream",
     "text": [
      "{1, 2, 3}\n",
      "<class 'set'>\n"
     ]
    }
   ],
   "source": [
    "s1 = set([1, 2, 3])\n",
    "print(s1)\n",
    "print(type(s1))"
   ]
  },
  {
   "cell_type": "code",
   "execution_count": 311,
   "id": "192fe8e2-2649-4744-b243-f908721f78b8",
   "metadata": {},
   "outputs": [
    {
     "name": "stdout",
     "output_type": "stream",
     "text": [
      "{'l', 'e', 'o', 'h'}\n"
     ]
    }
   ],
   "source": [
    "s2 = set('hello')\n",
    "print(s2)"
   ]
  },
  {
   "cell_type": "markdown",
   "id": "0e10003d-2abb-4be0-abc3-1e7b6399432a",
   "metadata": {},
   "source": [
    "- Set의 교집합 구하기 - & 연산자 or intersection 함수"
   ]
  },
  {
   "cell_type": "code",
   "execution_count": 316,
   "id": "5c32040c-7862-41b3-b405-996fefadd17d",
   "metadata": {},
   "outputs": [
    {
     "name": "stdout",
     "output_type": "stream",
     "text": [
      "{4, 5, 6}\n"
     ]
    }
   ],
   "source": [
    "s1 = set([1, 2, 3, 4, 5, 6])\n",
    "s2 = set([4, 5, 6, 7, 8, 9])\n",
    "s = s1 & s2\n",
    "print(s)"
   ]
  },
  {
   "cell_type": "code",
   "execution_count": 317,
   "id": "31a3cc39-2296-4998-b646-cdc5e95c65bf",
   "metadata": {},
   "outputs": [
    {
     "name": "stdout",
     "output_type": "stream",
     "text": [
      "{4, 5, 6}\n"
     ]
    }
   ],
   "source": [
    "print(s1.intersection(s2))"
   ]
  },
  {
   "cell_type": "markdown",
   "id": "0b5e24df-f474-458d-98bd-a40de4f40a0c",
   "metadata": {},
   "source": [
    "- Set의 합집합 구하기 - | 연산자 or Union 함수"
   ]
  },
  {
   "cell_type": "code",
   "execution_count": 320,
   "id": "6fce7d6e-35a5-4303-8d02-431e0e36e577",
   "metadata": {},
   "outputs": [
    {
     "name": "stdout",
     "output_type": "stream",
     "text": [
      "{1, 2, 3, 4, 5, 6, 7, 8, 9}\n"
     ]
    }
   ],
   "source": [
    "s = s1 | s2\n",
    "print(s)"
   ]
  },
  {
   "cell_type": "code",
   "execution_count": 321,
   "id": "343745de-69fa-4ab5-95e7-4bb8e35058a0",
   "metadata": {},
   "outputs": [
    {
     "name": "stdout",
     "output_type": "stream",
     "text": [
      "{1, 2, 3, 4, 5, 6, 7, 8, 9}\n"
     ]
    }
   ],
   "source": [
    "print(s1.union(s2))"
   ]
  },
  {
   "cell_type": "markdown",
   "id": "6a78cbd3-6dae-4762-a415-92a5461f50d6",
   "metadata": {},
   "source": [
    "- Set의 차집합 구하기 - '-' 연산 or difference 함수(거의 안 쓰임)"
   ]
  },
  {
   "cell_type": "code",
   "execution_count": 323,
   "id": "e8a5ecc7-42d2-446c-9f9a-f223bbe534a3",
   "metadata": {},
   "outputs": [
    {
     "name": "stdout",
     "output_type": "stream",
     "text": [
      "{1, 2, 3}\n"
     ]
    }
   ],
   "source": [
    "s = s1 - s2\n",
    "print(s)"
   ]
  },
  {
   "cell_type": "markdown",
   "id": "cb4a1f04-43ec-4c4f-a27c-17e91f5f3b46",
   "metadata": {},
   "source": [
    "# Python Ch 3. Boolean Type"
   ]
  },
  {
   "cell_type": "code",
   "execution_count": 325,
   "id": "7e82bfcb-0e56-4ea3-8bfd-0f09f266849a",
   "metadata": {},
   "outputs": [],
   "source": [
    "is_correct = True"
   ]
  },
  {
   "cell_type": "markdown",
   "id": "df833fe7-5eb5-4b76-9cdd-b8f62ecf3cbb",
   "metadata": {},
   "source": [
    "- 자료형의 Boolean : 0인 경우 false"
   ]
  },
  {
   "cell_type": "code",
   "execution_count": 328,
   "id": "6f508781-4e4e-46d8-9b3f-80f604066b5b",
   "metadata": {},
   "outputs": [
    {
     "name": "stdout",
     "output_type": "stream",
     "text": [
      "True\n",
      "True\n",
      "False\n"
     ]
    }
   ],
   "source": [
    "print(bool(2))\n",
    "print(bool(-1))\n",
    "print(bool(0))"
   ]
  },
  {
   "cell_type": "markdown",
   "id": "b0647c19-8b8e-4341-bbc4-a9e7349cf14c",
   "metadata": {},
   "source": [
    "- 자료구조의 Boolean : empty인 경우 false"
   ]
  },
  {
   "cell_type": "code",
   "execution_count": 332,
   "id": "a170cffe-e83c-43bf-a593-8a8b909d6005",
   "metadata": {},
   "outputs": [
    {
     "name": "stdout",
     "output_type": "stream",
     "text": [
      "True\n",
      "False\n"
     ]
    }
   ],
   "source": [
    "print(bool({'asd':'asd'}))\n",
    "print(bool([]))\n"
   ]
  },
  {
   "cell_type": "code",
   "execution_count": null,
   "id": "fd671048-8f1e-4d38-8a1a-1e608fadc73a",
   "metadata": {},
   "outputs": [],
   "source": []
  }
 ],
 "metadata": {
  "kernelspec": {
   "display_name": "Python 3 (ipykernel)",
   "language": "python",
   "name": "python3"
  },
  "language_info": {
   "codemirror_mode": {
    "name": "ipython",
    "version": 3
   },
   "file_extension": ".py",
   "mimetype": "text/x-python",
   "name": "python",
   "nbconvert_exporter": "python",
   "pygments_lexer": "ipython3",
   "version": "3.11.7"
  }
 },
 "nbformat": 4,
 "nbformat_minor": 5
}
