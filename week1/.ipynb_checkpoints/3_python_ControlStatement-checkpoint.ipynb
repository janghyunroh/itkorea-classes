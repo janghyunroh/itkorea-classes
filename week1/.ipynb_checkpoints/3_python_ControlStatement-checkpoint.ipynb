{
 "cells": [
  {
   "cell_type": "markdown",
   "id": "a06e50fb-d04d-4fe1-945c-d7ce75c977cc",
   "metadata": {},
   "source": [
    "# Ch 3. Control Statement"
   ]
  },
  {
   "cell_type": "markdown",
   "id": "f35354bd-ec66-41d4-8b71-5794ba697776",
   "metadata": {},
   "source": [
    "## If Statement"
   ]
  },
  {
   "cell_type": "markdown",
   "id": "d1234b2f-cebf-4000-86e5-ab3e11a76cda",
   "metadata": {},
   "source": [
    "예제) \n"
   ]
  },
  {
   "cell_type": "code",
   "execution_count": 3,
   "id": "c975ccb0-968f-48ce-8d75-ac75b3c49511",
   "metadata": {},
   "outputs": [
    {
     "name": "stdout",
     "output_type": "stream",
     "text": [
      "ride\n"
     ]
    }
   ],
   "source": [
    "money = 1;\n",
    "if money :\n",
    "    print(\"ride\")\n",
    "else :\n",
    "    print('walk')"
   ]
  },
  {
   "cell_type": "code",
   "execution_count": 8,
   "id": "81c89880-4d77-48fa-8060-ec1d35e8e20b",
   "metadata": {},
   "outputs": [
    {
     "name": "stdout",
     "output_type": "stream",
     "text": [
      "ride\n"
     ]
    }
   ],
   "source": [
    "money = 5000\n",
    "if money >= 3000:\n",
    "    print(\"ride\")\n",
    "else:\n",
    "    print(\"walk\")"
   ]
  },
  {
   "cell_type": "code",
   "execution_count": 10,
   "id": "df08a195-7f7a-43fc-950f-4ef592d4adcd",
   "metadata": {},
   "outputs": [
    {
     "name": "stdout",
     "output_type": "stream",
     "text": [
      "ride\n"
     ]
    }
   ],
   "source": [
    "money = 5000\n",
    "watch = True\n",
    "if money >= 3000 or watch:\n",
    "    print('ride')\n",
    "else:\n",
    "    print('walk')"
   ]
  },
  {
   "cell_type": "code",
   "execution_count": 19,
   "id": "bea82a19-fa33-4a2d-bf1f-16b46e249e31",
   "metadata": {},
   "outputs": [
    {
     "name": "stdout",
     "output_type": "stream",
     "text": [
      "x is in list\n"
     ]
    }
   ],
   "source": [
    "dic = [1, 2, 3, 4]\n",
    "if 1 not in dic:\n",
    "    print(\"x is not in dic\")\n",
    "else:\n",
    "    print('x is in list')"
   ]
  },
  {
   "cell_type": "code",
   "execution_count": 20,
   "id": "294807d4-d044-4591-b6b6-f73f77a4fabf",
   "metadata": {},
   "outputs": [
    {
     "name": "stdout",
     "output_type": "stream",
     "text": [
      "ride\n"
     ]
    }
   ],
   "source": [
    "pocket = ['money', 'paper', 'phone']\n",
    "if 'money' in pocket:\n",
    "    print('ride')\n",
    "else:\n",
    "    print('walk')"
   ]
  },
  {
   "cell_type": "code",
   "execution_count": 24,
   "id": "c6883550-bc19-46b7-a652-c974d20f13a6",
   "metadata": {},
   "outputs": [
    {
     "name": "stdout",
     "output_type": "stream",
     "text": [
      "ride\n"
     ]
    }
   ],
   "source": [
    "pocket = ['money', 'watch']\n",
    "if 'money' in pocket:\n",
    "    print('ride')\n",
    "elif 'watch' in pocket:\n",
    "    print('ride')\n",
    "else :\n",
    "    print('walk')"
   ]
  },
  {
   "cell_type": "code",
   "execution_count": 26,
   "id": "897a983e-094b-4d75-8599-b29f578432bf",
   "metadata": {},
   "outputs": [],
   "source": [
    "pocket = ['money', 'watch']\n",
    "if 'money' in pocket:\n",
    "    pass\n",
    "else :\n",
    "    print('walk')"
   ]
  },
  {
   "cell_type": "code",
   "execution_count": 29,
   "id": "4c828ddf-a772-4002-9301-205e6fd7ad18",
   "metadata": {},
   "outputs": [
    {
     "name": "stdout",
     "output_type": "stream",
     "text": [
      "XXX 학생의 학점은 C+이다.\n"
     ]
    }
   ],
   "source": [
    "score = 80\n",
    "grade = ''\n",
    "if 91 <= score and score <= 100:\n",
    "    grade = 'A+'\n",
    "elif 81 <= score and score <= 90:\n",
    "    grade = 'B+'\n",
    "elif 71 <= score and score <= 80:\n",
    "    grade = 'C+'\n",
    "else:\n",
    "    grade = 'F'\n",
    "\n",
    "print('XXX 학생의 학점은 ' + grade + '이다.')"
   ]
  },
  {
   "cell_type": "code",
   "execution_count": 45,
   "id": "04dd54e7-af63-4c52-8f68-8a52cd96d6a5",
   "metadata": {},
   "outputs": [
    {
     "name": "stdout",
     "output_type": "stream",
     "text": [
      "노장현 학생의 학점은 A+이다.\n"
     ]
    }
   ],
   "source": [
    "score = 100\n",
    "grade = ''\n",
    "name = \"노장현\"\n",
    "if score > 100 or score < 0:\n",
    "    pass\n",
    "else: \n",
    "    if score >= 91:\n",
    "        grade = 'A+'\n",
    "    elif score >= 81:\n",
    "        grade = 'B+'\n",
    "    elif score >= 71:\n",
    "        grade = 'C+'\n",
    "    else:\n",
    "        grade = 'F'\n",
    "    print(f'{name} 학생의 학점은 {grade}이다.')"
   ]
  },
  {
   "cell_type": "markdown",
   "id": "7ca1e214-e4e0-4c52-924a-70eb979ef666",
   "metadata": {},
   "source": [
    "## While Statement"
   ]
  },
  {
   "cell_type": "code",
   "execution_count": null,
   "id": "b9cf7f2e-2657-49b3-97f4-4833eee6cb93",
   "metadata": {},
   "outputs": [],
   "source": [
    "a = 1\n",
    "while a <= 10:\n",
    "    print(f'나무를 {a}번 찍었습니다.')\n",
    "    a += 1\n",
    "print('나무 넘어감')"
   ]
  },
  {
   "cell_type": "code",
   "execution_count": null,
   "id": "2508f855-1e72-4655-a9c7-2fe28e89b2e9",
   "metadata": {},
   "outputs": [],
   "source": [
    "prompt = \"\"\"\n",
    "1. ADD\n",
    "2. DEL\n",
    "3. LIST\n",
    "4. QUIT\n",
    "\n",
    "Enter Number : \"\"\"\n",
    "\n",
    "while num != 4:\n",
    "    print(prompt)\n",
    "    num = int(input())\n",
    "    "
   ]
  },
  {
   "cell_type": "code",
   "execution_count": null,
   "id": "58e9740a-efc0-442f-9f1b-30c9e3fbc424",
   "metadata": {},
   "outputs": [],
   "source": []
  }
 ],
 "metadata": {
  "kernelspec": {
   "display_name": "Python 3 (ipykernel)",
   "language": "python",
   "name": "python3"
  },
  "language_info": {
   "codemirror_mode": {
    "name": "ipython",
    "version": 3
   },
   "file_extension": ".py",
   "mimetype": "text/x-python",
   "name": "python",
   "nbconvert_exporter": "python",
   "pygments_lexer": "ipython3",
   "version": "3.11.7"
  }
 },
 "nbformat": 4,
 "nbformat_minor": 5
}
