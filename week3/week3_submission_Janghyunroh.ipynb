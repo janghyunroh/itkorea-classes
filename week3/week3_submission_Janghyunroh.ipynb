{
 "cells": [
  {
   "cell_type": "code",
   "execution_count": 60,
   "id": "6627defa-09e0-4d5e-943f-7c1854f5bf9c",
   "metadata": {},
   "outputs": [],
   "source": [
    "import pandas as pd\n",
    "import numpy as np\n",
    "\n",
    "series1 = pd.Series([1, 2, 3], index=['a', 'b', 'c'])\n",
    "series2 = pd.Series([4, 5, 6], index=['a', 'b', 'c'])"
   ]
  },
  {
   "cell_type": "code",
   "execution_count": 61,
   "id": "331b7633-d995-435f-a592-b9e9bb5831ca",
   "metadata": {},
   "outputs": [
    {
     "name": "stdout",
     "output_type": "stream",
     "text": [
      "a    5\n",
      "b    7\n",
      "c    9\n",
      "dtype: int64\n"
     ]
    }
   ],
   "source": [
    "#1\n",
    "series3 = series1 + series2\n",
    "print(series3)"
   ]
  },
  {
   "cell_type": "code",
   "execution_count": 62,
   "id": "107d29e1-59f1-4b5f-aa48-b4ee6efc0fb1",
   "metadata": {},
   "outputs": [
    {
     "name": "stdout",
     "output_type": "stream",
     "text": [
      "   a  b  c\n",
      "1  1  2  3\n",
      "2  4  5  6\n",
      "3  5  7  9\n"
     ]
    }
   ],
   "source": [
    "#2\n",
    "data = {'a': [1, 4, 5],\n",
    "       'b':[2, 5, 7],\n",
    "       'c':[3, 6, 9]\n",
    "       }\n",
    "df = pd.DataFrame(data, index=[1, 2, 3])\n",
    "print(df)\n"
   ]
  },
  {
   "cell_type": "code",
   "execution_count": 63,
   "id": "be8045a6-1f4a-421b-8ff9-f064f1d5bc60",
   "metadata": {},
   "outputs": [
    {
     "name": "stdout",
     "output_type": "stream",
     "text": [
      "   a  b  c   d\n",
      "1  1  2  3   4\n",
      "2  4  5  6  10\n",
      "3  5  7  9  14\n"
     ]
    }
   ],
   "source": [
    "#3\n",
    "df['d'] = df['a'] + df['c']\n",
    "print(df)"
   ]
  },
  {
   "cell_type": "code",
   "execution_count": 64,
   "id": "4756352d-726e-4146-a2df-dfba6dc8bea4",
   "metadata": {},
   "outputs": [
    {
     "name": "stdout",
     "output_type": "stream",
     "text": [
      "      a     b     c     d\n",
      "1  0.01  0.02  0.03  0.04\n",
      "2  0.04  0.05  0.06  0.10\n",
      "3  0.05  0.07  0.09  0.14\n"
     ]
    }
   ],
   "source": [
    "#4\n",
    "df = df * 0.01\n",
    "print(df)"
   ]
  },
  {
   "cell_type": "code",
   "execution_count": 55,
   "id": "715bde54-19d8-470e-8162-730df02872fe",
   "metadata": {},
   "outputs": [
    {
     "name": "stdout",
     "output_type": "stream",
     "text": [
      "        a     b     c     d\n",
      "은행                         \n",
      "a은행  0.01  0.02  0.03  0.04\n",
      "b은행  0.04  0.05  0.06  0.10\n",
      "c은행  0.05  0.07  0.09  0.14\n"
     ]
    }
   ],
   "source": [
    "#5\n",
    "df['은행'] = ['a은행', 'b은행', 'c은행']\n",
    "df.index = df['은행']\n",
    "del df['은행']\n",
    "print(df)"
   ]
  },
  {
   "cell_type": "code",
   "execution_count": 56,
   "id": "cd3d7731-b0e6-436d-b928-26158139453a",
   "metadata": {},
   "outputs": [
    {
     "name": "stdout",
     "output_type": "stream",
     "text": [
      "        a     b     c     d\n",
      "은행                         \n",
      "a은행  0.01  0.02  0.03  0.04\n",
      "b은행  0.04  0.05  0.06  0.10\n",
      "c은행  0.05  0.03  0.04  0.14\n"
     ]
    }
   ],
   "source": [
    "#6\n",
    "df.loc['c은행','b'] = 0.03\n",
    "df.loc['c은행','c'] = 0.04\n",
    "print(df)"
   ]
  },
  {
   "cell_type": "code",
   "execution_count": 59,
   "id": "2e9755cd-2f4e-4303-96fe-b7cf34911f1a",
   "metadata": {},
   "outputs": [
    {
     "name": "stdout",
     "output_type": "stream",
     "text": [
      "        a     b     c     d\n",
      "은행                         \n",
      "a은행  0.01  0.02  0.03  0.04\n",
      "b은행  0.04  0.05  0.06  0.10\n",
      "c은행  0.05  0.03  0.04  0.14\n",
      "d은행  0.00  0.00  0.00  0.00\n",
      "e은행  0.00  0.00  0.00  0.00\n"
     ]
    }
   ],
   "source": [
    "#7\n",
    "df.loc['d은행'] = 0\n",
    "df.loc['e은행'] = 0\n",
    "print(df)"
   ]
  },
  {
   "cell_type": "code",
   "execution_count": null,
   "id": "70ce6c6f-ac8e-4ba2-b5dd-75f172d38fd1",
   "metadata": {},
   "outputs": [],
   "source": []
  }
 ],
 "metadata": {
  "kernelspec": {
   "display_name": "Python 3 (ipykernel)",
   "language": "python",
   "name": "python3"
  },
  "language_info": {
   "codemirror_mode": {
    "name": "ipython",
    "version": 3
   },
   "file_extension": ".py",
   "mimetype": "text/x-python",
   "name": "python",
   "nbconvert_exporter": "python",
   "pygments_lexer": "ipython3",
   "version": "3.11.7"
  }
 },
 "nbformat": 4,
 "nbformat_minor": 5
}
