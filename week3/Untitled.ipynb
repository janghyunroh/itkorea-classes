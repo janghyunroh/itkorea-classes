{
 "cells": [
  {
   "cell_type": "markdown",
   "id": "9dc71eb0-3208-4b36-bf18-b1ff72c6c948",
   "metadata": {},
   "source": [
    "# 함수"
   ]
  },
  {
   "cell_type": "code",
   "execution_count": 20,
   "id": "1124c82d-fb4a-455a-a42a-d041c7cbce48",
   "metadata": {},
   "outputs": [],
   "source": [
    "def add(a, b):\n",
    "    #d = a / b\n",
    "    '''function docs of the function add'''\n",
    "    c = a * b\n",
    "    '''test'''\n",
    "    return a + b\n",
    "    "
   ]
  },
  {
   "cell_type": "markdown",
   "id": "388b7a22-e2b6-4ce0-8bfd-57749acc8bb2",
   "metadata": {},
   "source": [
    "##### parameter와 argument의 차이\n",
    "parameter(매개변수): 함수 정의 시 input으로 사용되는 변수\n",
    "argument(인자): 실제 사용 시 넘겨주는 객체"
   ]
  },
  {
   "cell_type": "markdown",
   "id": "0c5e38a9-509d-44d1-99e0-c6f8db2b80eb",
   "metadata": {},
   "source": [
    "##### function docs\n",
    "function 작성부 최상단에 docs string 작성하는 개꿀 기능 있음"
   ]
  },
  {
   "cell_type": "code",
   "execution_count": 21,
   "id": "74b0c9a8-f19c-4d46-9c09-2aad9a7b71cd",
   "metadata": {},
   "outputs": [
    {
     "name": "stdout",
     "output_type": "stream",
     "text": [
      "function docs of the function add\n"
     ]
    }
   ],
   "source": [
    "print(add.__doc__)"
   ]
  },
  {
   "cell_type": "code",
   "execution_count": 22,
   "id": "8f337a2d-7e64-4da3-89a5-827a2a043d81",
   "metadata": {},
   "outputs": [
    {
     "name": "stdout",
     "output_type": "stream",
     "text": [
      "Help on function add in module __main__:\n",
      "\n",
      "add(a, b)\n",
      "    function docs of the function add\n",
      "\n"
     ]
    }
   ],
   "source": [
    "help(add)"
   ]
  },
  {
   "cell_type": "code",
   "execution_count": 23,
   "id": "e5b0dccb-6e93-4bab-8390-fbdfa84aa55c",
   "metadata": {},
   "outputs": [
    {
     "name": "stdout",
     "output_type": "stream",
     "text": [
      "7\n"
     ]
    }
   ],
   "source": [
    "a = 3\n",
    "b = 4\n",
    "print(add(a, b))"
   ]
  },
  {
   "cell_type": "markdown",
   "id": "a3a8548e-1475-487f-8733-14b6e9487b47",
   "metadata": {},
   "source": [
    "##### *args parameter\n",
    "'*': 포인터 아님! 여러 개의 인자를 함수로 받고자 할 때 사용\n",
    "받은 뒤에 튜플로 파싱하여 사용됨\n",
    "\n",
    "'**': 더블 포인터 아님! 받은 인자를 딕셔너리로 파싱하여 사용됨"
   ]
  },
  {
   "cell_type": "code",
   "execution_count": 16,
   "id": "7bd0cd65-6df9-485b-b5b9-554023c05178",
   "metadata": {},
   "outputs": [],
   "source": [
    "# *args parameter\n",
    "def sum(*args):\n",
    "    '''전달받은 숫자들의 합 반환'''\n",
    "    sum = 0\n",
    "    for i in args:\n",
    "        sum = sum + i\n",
    "    return sum"
   ]
  },
  {
   "cell_type": "code",
   "execution_count": 17,
   "id": "05d22036-841c-44bb-92b0-6246d01a2bbc",
   "metadata": {},
   "outputs": [
    {
     "data": {
      "text/plain": [
       "15"
      ]
     },
     "execution_count": 17,
     "metadata": {},
     "output_type": "execute_result"
    }
   ],
   "source": [
    "sum(1, 2, 3, 4, 5)"
   ]
  },
  {
   "cell_type": "code",
   "execution_count": 26,
   "id": "fdcc2b8a-5b52-423a-afea-75b62feab7e5",
   "metadata": {},
   "outputs": [],
   "source": [
    "def asmd(a, b):\n",
    "    return a + b, a - b, a * b, a / b"
   ]
  },
  {
   "cell_type": "code",
   "execution_count": 27,
   "id": "3dcc7314-3d71-4998-904d-78b469f4d9a9",
   "metadata": {},
   "outputs": [
    {
     "data": {
      "text/plain": [
       "(7, -1, 12, 0.75)"
      ]
     },
     "execution_count": 27,
     "metadata": {},
     "output_type": "execute_result"
    }
   ],
   "source": [
    "asmd(3, 4)"
   ]
  },
  {
   "cell_type": "code",
   "execution_count": 28,
   "id": "c45450de-c974-4dca-87e5-a8db906e60c8",
   "metadata": {},
   "outputs": [],
   "source": [
    "a, b, c, d = asmd(5, 1)"
   ]
  },
  {
   "cell_type": "code",
   "execution_count": 44,
   "id": "0be5ec67-7798-4049-863f-4f60270bd96e",
   "metadata": {},
   "outputs": [],
   "source": [
    "def sub(a, b):\n",
    "    return a - b\n",
    "def mul(a, b):\n",
    "    if isinstance(a, int) and isinstance(b, int):\n",
    "        return a * b\n",
    "    else:\n",
    "        print('정수를 입력하세요.')"
   ]
  },
  {
   "cell_type": "code",
   "execution_count": 46,
   "id": "57f56a0f-11d1-463f-92aa-6e5127cc8ad5",
   "metadata": {},
   "outputs": [
    {
     "data": {
      "text/plain": [
       "-1"
      ]
     },
     "execution_count": 46,
     "metadata": {},
     "output_type": "execute_result"
    }
   ],
   "source": [
    "sub(3, 4)"
   ]
  },
  {
   "cell_type": "code",
   "execution_count": 47,
   "id": "76b28335-44b2-4e21-9ea8-0aec5e53af26",
   "metadata": {},
   "outputs": [
    {
     "data": {
      "text/plain": [
       "12"
      ]
     },
     "execution_count": 47,
     "metadata": {},
     "output_type": "execute_result"
    }
   ],
   "source": [
    "mul(3, 4)"
   ]
  },
  {
   "cell_type": "code",
   "execution_count": 48,
   "id": "82f9af13-d01f-48f2-878a-ef254e3fce78",
   "metadata": {},
   "outputs": [
    {
     "name": "stdout",
     "output_type": "stream",
     "text": [
      "정수를 입력하세요.\n"
     ]
    }
   ],
   "source": [
    "mul('3', 4)"
   ]
  },
  {
   "cell_type": "code",
   "execution_count": 49,
   "id": "b3c5d9cb-c99b-4c52-a961-53a540a1f2b9",
   "metadata": {},
   "outputs": [
    {
     "name": "stdout",
     "output_type": "stream",
     "text": [
      "정수를 입력하세요.\n"
     ]
    }
   ],
   "source": [
    "mul(3, '4')"
   ]
  },
  {
   "cell_type": "code",
   "execution_count": 50,
   "id": "37dc50c2-e4f6-40c7-ba0a-ee210e52ab12",
   "metadata": {},
   "outputs": [
    {
     "name": "stdout",
     "output_type": "stream",
     "text": [
      "정수를 입력하세요.\n"
     ]
    }
   ],
   "source": [
    "mul('3', '4')"
   ]
  },
  {
   "cell_type": "markdown",
   "id": "1590826f-51c9-4f94-a383-35a348a6e010",
   "metadata": {},
   "source": [
    "##### default"
   ]
  },
  {
   "cell_type": "code",
   "execution_count": 52,
   "id": "cb74fcc0-19e7-45ca-8f1e-55f928566db6",
   "metadata": {},
   "outputs": [],
   "source": [
    "def myself(name, old, gender = 1):\n",
    "    print(f'나의 이름은 {name}입니다.')\n",
    "    print(f'나의 이름은 {old}입니다.')\n",
    "    if gender:\n",
    "        print('저는 남자입니다.')\n",
    "    else:\n",
    "        print('저는 여자입니다.')"
   ]
  },
  {
   "cell_type": "code",
   "execution_count": 53,
   "id": "de1f03e2-2da6-4bd9-96d9-4f3074d482a2",
   "metadata": {},
   "outputs": [
    {
     "name": "stdout",
     "output_type": "stream",
     "text": [
      "나의 이름은 brian입니다.\n",
      "나의 이름은 23입니다.\n",
      "저는 남자입니다.\n"
     ]
    }
   ],
   "source": [
    "myself('brian', 23)"
   ]
  },
  {
   "cell_type": "markdown",
   "id": "7bb43a77-2f2a-4cc9-91c4-9743ab0863ff",
   "metadata": {},
   "source": [
    "##### global and local variable"
   ]
  },
  {
   "cell_type": "code",
   "execution_count": 54,
   "id": "42a398fc-75aa-4a32-a43a-0c49f3105be1",
   "metadata": {},
   "outputs": [
    {
     "name": "stdout",
     "output_type": "stream",
     "text": [
      "1\n"
     ]
    }
   ],
   "source": [
    "a = 1\n",
    "def func(a):\n",
    "    a = a +1\n",
    "func(a)\n",
    "print(a)"
   ]
  },
  {
   "cell_type": "markdown",
   "id": "fdf1bf73-d586-4b84-a4f1-b96ba0e8eb41",
   "metadata": {},
   "source": [
    "### 유용한 파이썬 내장함수들"
   ]
  },
  {
   "cell_type": "code",
   "execution_count": 60,
   "id": "51d40983-7fb2-4ea5-85fb-6fea40d99ed2",
   "metadata": {},
   "outputs": [
    {
     "name": "stdout",
     "output_type": "stream",
     "text": [
      "-10\n",
      "98\n",
      "asd\n"
     ]
    }
   ],
   "source": [
    "# 1. min, max\n",
    "print(min(1, 2, 0, -10, 90, 0, 1.3))\n",
    "print(max(3, 4, 5, 1, 2, 0, 98, -10))\n",
    "print(min('asd', 'sdf', 'dfg'))"
   ]
  },
  {
   "cell_type": "code",
   "execution_count": 63,
   "id": "0072d778-ae0c-49c2-9d49-60a8096fb176",
   "metadata": {},
   "outputs": [
    {
     "name": "stdout",
     "output_type": "stream",
     "text": [
      "0.3333\n"
     ]
    }
   ],
   "source": [
    "# 2. round - 자리수 생략시 정수로\n",
    "print(round(0.3333333333, 4))"
   ]
  },
  {
   "cell_type": "code",
   "execution_count": 65,
   "id": "dfaa0194-f52b-4288-b679-536e6c34fc97",
   "metadata": {},
   "outputs": [
    {
     "name": "stdout",
     "output_type": "stream",
     "text": [
      "3\n"
     ]
    }
   ],
   "source": [
    "# 3. eval() - 문자열 계산식 처리\n",
    "print(eval('1+2'))"
   ]
  },
  {
   "cell_type": "code",
   "execution_count": 66,
   "id": "2cf9f9f7-79e1-4847-9899-db9394a9d464",
   "metadata": {},
   "outputs": [
    {
     "data": {
      "text/plain": [
       "['__add__',\n",
       " '__class__',\n",
       " '__class_getitem__',\n",
       " '__contains__',\n",
       " '__delattr__',\n",
       " '__delitem__',\n",
       " '__dir__',\n",
       " '__doc__',\n",
       " '__eq__',\n",
       " '__format__',\n",
       " '__ge__',\n",
       " '__getattribute__',\n",
       " '__getitem__',\n",
       " '__getstate__',\n",
       " '__gt__',\n",
       " '__hash__',\n",
       " '__iadd__',\n",
       " '__imul__',\n",
       " '__init__',\n",
       " '__init_subclass__',\n",
       " '__iter__',\n",
       " '__le__',\n",
       " '__len__',\n",
       " '__lt__',\n",
       " '__mul__',\n",
       " '__ne__',\n",
       " '__new__',\n",
       " '__reduce__',\n",
       " '__reduce_ex__',\n",
       " '__repr__',\n",
       " '__reversed__',\n",
       " '__rmul__',\n",
       " '__setattr__',\n",
       " '__setitem__',\n",
       " '__sizeof__',\n",
       " '__str__',\n",
       " '__subclasshook__',\n",
       " 'append',\n",
       " 'clear',\n",
       " 'copy',\n",
       " 'count',\n",
       " 'extend',\n",
       " 'index',\n",
       " 'insert',\n",
       " 'pop',\n",
       " 'remove',\n",
       " 'reverse',\n",
       " 'sort']"
      ]
     },
     "execution_count": 66,
     "metadata": {},
     "output_type": "execute_result"
    }
   ],
   "source": [
    "# 4. dir - 파라미터가 사용가능한 속성값, 함수를 리스트로 반환\n",
    "dir([])"
   ]
  },
  {
   "cell_type": "code",
   "execution_count": 68,
   "id": "224f1528-b922-4948-baa6-365a4342f67f",
   "metadata": {},
   "outputs": [
    {
     "name": "stdout",
     "output_type": "stream",
     "text": [
      "[2, 4, 6, 8]\n"
     ]
    }
   ],
   "source": [
    "# 5. map - 알고 있지? 고차 함수\n",
    "def mul2(a):\n",
    "    return a * 2\n",
    "print(list(map(mul2, [1, 2, 3, 4])))"
   ]
  },
  {
   "cell_type": "code",
   "execution_count": 70,
   "id": "3fa6e97e-272c-4520-8fa5-23614905d288",
   "metadata": {},
   "outputs": [
    {
     "data": {
      "text/plain": [
       "[(1, 4), (2, 5), (3, 6)]"
      ]
     },
     "execution_count": 70,
     "metadata": {},
     "output_type": "execute_result"
    }
   ],
   "source": [
    "#6. zip - 반드시 알아야 한다!\n",
    "list(zip([1, 2, 3], [4, 5, 6]))"
   ]
  },
  {
   "cell_type": "code",
   "execution_count": null,
   "id": "840e1ed8-084e-45c2-8c44-82d7a29efb36",
   "metadata": {},
   "outputs": [],
   "source": []
  }
 ],
 "metadata": {
  "kernelspec": {
   "display_name": "Python 3 (ipykernel)",
   "language": "python",
   "name": "python3"
  },
  "language_info": {
   "codemirror_mode": {
    "name": "ipython",
    "version": 3
   },
   "file_extension": ".py",
   "mimetype": "text/x-python",
   "name": "python",
   "nbconvert_exporter": "python",
   "pygments_lexer": "ipython3",
   "version": "3.11.7"
  }
 },
 "nbformat": 4,
 "nbformat_minor": 5
}
