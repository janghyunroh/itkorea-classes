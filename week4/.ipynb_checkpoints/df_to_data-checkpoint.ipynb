{
 "cells": [
  {
   "cell_type": "code",
   "execution_count": 1,
   "id": "3e317121-bae2-4b29-8733-6a231501eb25",
   "metadata": {},
   "outputs": [],
   "source": [
    "import pandas as pd"
   ]
  },
  {
   "cell_type": "code",
   "execution_count": 2,
   "id": "d393e76b-e024-4bd8-9cb3-ce9a09056591",
   "metadata": {},
   "outputs": [],
   "source": [
    "data = {\n",
    "    'name':['Jerry', 'Riah', 'Paul'],\n",
    "    'algol':['A', 'A+', 'B'],\n",
    "    'basic':['C', 'B', 'B+'],\n",
    "    'c++':['B+', 'C', 'C+']}"
   ]
  },
  {
   "cell_type": "code",
   "execution_count": 3,
   "id": "152d64f6-c327-447d-9cf3-ceb7a6308838",
   "metadata": {},
   "outputs": [],
   "source": [
    "df = pd.DataFrame(data)"
   ]
  },
  {
   "cell_type": "code",
   "execution_count": 4,
   "id": "f3561540-32c4-46ab-baa3-bf18c67ae4fa",
   "metadata": {},
   "outputs": [
    {
     "data": {
      "text/html": [
       "<div>\n",
       "<style scoped>\n",
       "    .dataframe tbody tr th:only-of-type {\n",
       "        vertical-align: middle;\n",
       "    }\n",
       "\n",
       "    .dataframe tbody tr th {\n",
       "        vertical-align: top;\n",
       "    }\n",
       "\n",
       "    .dataframe thead th {\n",
       "        text-align: right;\n",
       "    }\n",
       "</style>\n",
       "<table border=\"1\" class=\"dataframe\">\n",
       "  <thead>\n",
       "    <tr style=\"text-align: right;\">\n",
       "      <th></th>\n",
       "      <th>name</th>\n",
       "      <th>algol</th>\n",
       "      <th>basic</th>\n",
       "      <th>c++</th>\n",
       "    </tr>\n",
       "  </thead>\n",
       "  <tbody>\n",
       "    <tr>\n",
       "      <th>0</th>\n",
       "      <td>Jerry</td>\n",
       "      <td>A</td>\n",
       "      <td>C</td>\n",
       "      <td>B+</td>\n",
       "    </tr>\n",
       "    <tr>\n",
       "      <th>1</th>\n",
       "      <td>Riah</td>\n",
       "      <td>A+</td>\n",
       "      <td>B</td>\n",
       "      <td>C</td>\n",
       "    </tr>\n",
       "    <tr>\n",
       "      <th>2</th>\n",
       "      <td>Paul</td>\n",
       "      <td>B</td>\n",
       "      <td>B+</td>\n",
       "      <td>C+</td>\n",
       "    </tr>\n",
       "  </tbody>\n",
       "</table>\n",
       "</div>"
      ],
      "text/plain": [
       "    name algol basic c++\n",
       "0  Jerry     A     C  B+\n",
       "1   Riah    A+     B   C\n",
       "2   Paul     B    B+  C+"
      ]
     },
     "execution_count": 4,
     "metadata": {},
     "output_type": "execute_result"
    }
   ],
   "source": [
    "df"
   ]
  },
  {
   "cell_type": "code",
   "execution_count": 5,
   "id": "67ddcfcb-4988-4f58-9785-1ee33cc5a3b8",
   "metadata": {},
   "outputs": [],
   "source": [
    "# name column을 인덱스로 지정하려면?\n",
    "df.set_index('name', inplace=True)"
   ]
  },
  {
   "cell_type": "code",
   "execution_count": 8,
   "id": "4151376f-83ff-4bd8-9f97-9c3186275397",
   "metadata": {
    "scrolled": true
   },
   "outputs": [
    {
     "data": {
      "text/html": [
       "<div>\n",
       "<style scoped>\n",
       "    .dataframe tbody tr th:only-of-type {\n",
       "        vertical-align: middle;\n",
       "    }\n",
       "\n",
       "    .dataframe tbody tr th {\n",
       "        vertical-align: top;\n",
       "    }\n",
       "\n",
       "    .dataframe thead th {\n",
       "        text-align: right;\n",
       "    }\n",
       "</style>\n",
       "<table border=\"1\" class=\"dataframe\">\n",
       "  <thead>\n",
       "    <tr style=\"text-align: right;\">\n",
       "      <th></th>\n",
       "      <th>algol</th>\n",
       "      <th>basic</th>\n",
       "      <th>c++</th>\n",
       "    </tr>\n",
       "    <tr>\n",
       "      <th>name</th>\n",
       "      <th></th>\n",
       "      <th></th>\n",
       "      <th></th>\n",
       "    </tr>\n",
       "  </thead>\n",
       "  <tbody>\n",
       "    <tr>\n",
       "      <th>Jerry</th>\n",
       "      <td>A</td>\n",
       "      <td>C</td>\n",
       "      <td>B+</td>\n",
       "    </tr>\n",
       "    <tr>\n",
       "      <th>Riah</th>\n",
       "      <td>A+</td>\n",
       "      <td>B</td>\n",
       "      <td>C</td>\n",
       "    </tr>\n",
       "    <tr>\n",
       "      <th>Paul</th>\n",
       "      <td>B</td>\n",
       "      <td>B+</td>\n",
       "      <td>C+</td>\n",
       "    </tr>\n",
       "  </tbody>\n",
       "</table>\n",
       "</div>"
      ],
      "text/plain": [
       "      algol basic c++\n",
       "name                 \n",
       "Jerry     A     C  B+\n",
       "Riah     A+     B   C\n",
       "Paul      B    B+  C+"
      ]
     },
     "execution_count": 8,
     "metadata": {},
     "output_type": "execute_result"
    }
   ],
   "source": [
    "df"
   ]
  },
  {
   "cell_type": "markdown",
   "id": "46d88b3a-3f7f-41aa-ac7b-1bc1c684b0c3",
   "metadata": {},
   "source": [
    "# to csv"
   ]
  },
  {
   "cell_type": "code",
   "execution_count": 7,
   "id": "29196fa6-ae30-4522-928a-29ee28861095",
   "metadata": {},
   "outputs": [],
   "source": [
    "path = './df_student_sample.csv'\n",
    "df.to_csv(path)"
   ]
  },
  {
   "cell_type": "markdown",
   "id": "015a1088-c31b-4d07-9cba-8a603c57f51f",
   "metadata": {},
   "source": [
    "# to Excel"
   ]
  },
  {
   "cell_type": "code",
   "execution_count": 9,
   "id": "9d5fef3c-cc23-4936-ae7c-8480636a2443",
   "metadata": {},
   "outputs": [],
   "source": [
    "path = './df_student_sample_toExcel.xlsx'\n",
    "df.to_excel(path)"
   ]
  },
  {
   "cell_type": "code",
   "execution_count": 11,
   "id": "b13cb71d-5bee-45fe-a0f9-4b5b915ffdac",
   "metadata": {},
   "outputs": [],
   "source": [
    "data1 = {\n",
    "    'name':['Jerry', 'Riah', 'Paul'],\n",
    "    'algol':['A', 'A+', 'B'],\n",
    "    'basic':['C', 'B', 'B+'],\n",
    "    'c++':['B+', 'C', 'C+']}\n",
    "\n",
    "data2 = {\n",
    "    'c0':[1,2,3],\n",
    "    'c1':[4, 5, 6],\n",
    "    'c2':[7, 8, 9],\n",
    "    'c3':[10, 11, 12],\n",
    "    'c4':[13, 14, 15]}\n",
    "\n",
    "df1 = pd.DataFrame(data1)\n",
    "df2 = pd.DataFrame(data2)\n",
    "\n",
    "df1.set_index('name', inplace=True)\n",
    "df2.set_index('c0', inplace=True)"
   ]
  },
  {
   "cell_type": "markdown",
   "id": "1066ac98-1aca-4745-a57b-a6421465e56e",
   "metadata": {},
   "source": [
    "# Excel Writer"
   ]
  },
  {
   "cell_type": "code",
   "execution_count": 12,
   "id": "2bbc8e1c-3617-41e2-adff-d915270eaccd",
   "metadata": {},
   "outputs": [],
   "source": [
    "writer = pd.ExcelWriter('./df_excelwriter_1.xlsx')\n",
    "df1.to_excel(writer, sheet_name='학점')\n",
    "df2.to_excel(writer, sheet_name='sheet2')\n",
    "writer.close()"
   ]
  },
  {
   "cell_type": "code",
   "execution_count": 16,
   "id": "7ecf7479-41bd-432e-8da9-2f22ea3c9cc6",
   "metadata": {},
   "outputs": [],
   "source": [
    "writer = pd.ExcelWriter('./df_excelWriter-2.xlsx')\n",
    "df1.to_excel(writer, sheet_name = '학점', startrow=0)\n",
    "df2.to_excel(writer, sheet_name = '학점', startrow =len(df1) + 3)\n",
    "writer.close()"
   ]
  },
  {
   "cell_type": "code",
   "execution_count": null,
   "id": "82f866ae-d6e0-423d-be62-26a671c2fefb",
   "metadata": {},
   "outputs": [],
   "source": []
  }
 ],
 "metadata": {
  "kernelspec": {
   "display_name": "Python 3 (ipykernel)",
   "language": "python",
   "name": "python3"
  },
  "language_info": {
   "codemirror_mode": {
    "name": "ipython",
    "version": 3
   },
   "file_extension": ".py",
   "mimetype": "text/x-python",
   "name": "python",
   "nbconvert_exporter": "python",
   "pygments_lexer": "ipython3",
   "version": "3.11.7"
  }
 },
 "nbformat": 4,
 "nbformat_minor": 5
}
